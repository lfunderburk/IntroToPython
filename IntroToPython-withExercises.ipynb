{
 "cells": [
  {
   "cell_type": "code",
   "execution_count": 1,
   "metadata": {},
   "outputs": [
    {
     "data": {
      "text/html": [
       "<script>\n",
       "code_show=true; \n",
       "function code_toggle() {\n",
       " if (code_show){\n",
       " $('div.input').hide();\n",
       " } else {\n",
       " $('div.input').show();\n",
       " }\n",
       " code_show = !code_show\n",
       "} \n",
       "$( document ).ready(code_toggle);\n",
       "</script>\n",
       "The raw code for this IPython notebook is by default hidden for easier reading.\n",
       "To toggle on/off the raw code, click <a href=\"javascript:code_toggle()\">here</a>."
      ],
      "text/plain": [
       "<IPython.core.display.HTML object>"
      ]
     },
     "execution_count": 1,
     "metadata": {},
     "output_type": "execute_result"
    }
   ],
   "source": [
    "from IPython.display import HTML\n",
    "\n",
    "HTML('''<script>\n",
    "code_show=true; \n",
    "function code_toggle() {\n",
    " if (code_show){\n",
    " $('div.input').hide();\n",
    " } else {\n",
    " $('div.input').show();\n",
    " }\n",
    " code_show = !code_show\n",
    "} \n",
    "$( document ).ready(code_toggle);\n",
    "</script>\n",
    "The raw code for this IPython notebook is by default hidden for easier reading.\n",
    "To toggle on/off the raw code, click <a href=\"javascript:code_toggle()\">here</a>.''')"
   ]
  },
  {
   "cell_type": "markdown",
   "metadata": {},
   "source": [
    "<h1 align='center'>Introduction to Python $\\&$ the Jupyter Environment</h1>\n",
    "\n",
    "<h4 align='center'>Workshop Facilitator: Laura Gutierrez Funderburk, Department of Mathematics at SFU, Callysto Developer, November 2019</h4>"
   ]
  },
  {
   "cell_type": "markdown",
   "metadata": {},
   "source": [
    "<h2 align='center'>Introduction</h2>\n",
    "\n",
    "In this workshop participants will have an opportunity to learn basic programming with Python while using the Jupyter environment to define, test and implement functions. At the end of the workshop, participants will be given resources and challenge exercises. "
   ]
  },
  {
   "cell_type": "markdown",
   "metadata": {},
   "source": [
    "<h2 align='center'>Why Python</h2>\n",
    "\n",
    "* Python is currently a \"hot\" programming language\n",
    "* Python is (relatively) intuitive - there are lots of online resources available to learn and improve your skills\n",
    "* Python is great for data analysis and visualization: a highly sought after skill in the current job market\n"
   ]
  },
  {
   "cell_type": "markdown",
   "metadata": {},
   "source": [
    "<h2 align='center'>Workshop Overview</h2>\n",
    "\n",
    "In this workshop we will cover basic for loops, if/else and while statements, importing libraries and 2D visualization. \n",
    "\n",
    "Via a series of guided exercises, we will simulate an unfair probabilistic game with two players.\n"
   ]
  },
  {
   "cell_type": "code",
   "execution_count": 2,
   "metadata": {},
   "outputs": [
    {
     "data": {
      "application/vnd.jupyter.widget-view+json": {
       "model_id": "80c181efae304888833f43e138fac3d0",
       "version_major": 2,
       "version_minor": 0
      },
      "text/plain": [
       "interactive(children=(IntSlider(value=10, continuous_update=False, description='Number of turns', min=2, style…"
      ]
     },
     "metadata": {},
     "output_type": "display_data"
    }
   ],
   "source": [
    "import matplotlib.patches as mpatches\n",
    "from ipywidgets import interact, interact_manual, widgets\n",
    "\n",
    "import random\n",
    "import matplotlib.pyplot as plt\n",
    "\n",
    "style = {'description_width': 'initial'}\n",
    "\n",
    "\n",
    "def roll_dice():\n",
    "    positive_luck = random.choice([1,2,4,5,6])\n",
    "    negative_luck = random.choice([1,2,4,5,6])\n",
    "    \n",
    "    if positive_luck - negative_luck >= 0:\n",
    "        return True\n",
    "    else:\n",
    "        return False\n",
    "\n",
    "def simulate_unfair_game(points_A,points_C,number_of_games):\n",
    "    \n",
    "    x_coord = []\n",
    "    y_coord_A = []\n",
    "    y_coord_C = []\n",
    "    \n",
    "    value_A = points_A\n",
    "    value_C = points_C\n",
    "    \n",
    "    \n",
    "    turn_number = 1\n",
    "    \n",
    "    while turn_number <= number_of_games:\n",
    "        if roll_dice():\n",
    "            x_coord.append(turn_number)\n",
    "            turn_number += 1\n",
    "            \n",
    "            y_coord_A.append(value_A)\n",
    "            y_coord_C.append(value_C)\n",
    "            value_A = value_A + (value_C/2)\n",
    "            value_C = value_C  - (value_C/2)\n",
    "            \n",
    "        else:\n",
    "            x_coord.append(turn_number)\n",
    "            turn_number += 1\n",
    "            \n",
    "            y_coord_A.append(value_A)\n",
    "            y_coord_C.append(value_C)\n",
    "            value_A = value_A - (value_A/2)\n",
    "            value_C = value_C  + (value_A/2)\n",
    "    return [x_coord,y_coord_A,y_coord_C]\n",
    "\n",
    "\n",
    "def plot_unfair_simulation(number_turns):\n",
    "\n",
    "    fig,ax = plt.subplots(figsize=(10,10))\n",
    "    ax.set_xlim([0,number_turns + 1])\n",
    "    ax.set_ylim([0,200])\n",
    "    ax.grid(True)\n",
    "\n",
    "    [x_co,y_co_A,y_co_C] = simulate_unfair_game(100,100,number_turns)\n",
    "    \n",
    "    ax.plot(x_co,y_co_A,color='#8642f4',label=\"Alice\")\n",
    "    ax.plot(x_co,y_co_C,color='#518900',label=\"Bob\")\n",
    "    ax.set_ylabel(\"Number of points\",fontsize=25)\n",
    "    ax.set_xlabel(\"Number of turns\",fontsize=25)\n",
    "    ax.set_title(\"Positive vs Negative Luck Game Simulation\",fontsize=25)\n",
    "    plt.legend(bbox_to_anchor=(1.05, 1), loc=2, borderaxespad=1.)\n",
    "\n",
    "\n",
    "    plt.show()\n",
    "    \n",
    "interact_manual(plot_unfair_simulation,number_turns=widgets.IntSlider(\n",
    "            value=10,\n",
    "            min=2,\n",
    "            max=100,\n",
    "            step=1,\n",
    "            description='Number of turns',\n",
    "            disabled=False,\n",
    "            continuous_update=False,\n",
    "            orientation='horizontal',\n",
    "            readout=True,\n",
    "            readout_format='d',\n",
    "            style =style\n",
    "));"
   ]
  },
  {
   "cell_type": "markdown",
   "metadata": {},
   "source": [
    "<h2 align='center'>Section 0. Setup</h2>\n",
    "\n",
    "1. Go to http://sfu.syzygy.ca and press the Login icon ![login](./images/Login.png)\n",
    "\n",
    "2. Authenticate\n",
    "\n",
    "3. Open a new terminal ![terminal](./images/terminal.png)\n",
    "\n",
    "4. Enter the following command ```git clone https://github.com/lfunderburk/IntroToPython``` ![clone](./images/GitClone.png)\n",
    "\n",
    "5. Press Enter\n",
    "\n",
    "6. You can now access workshop material!"
   ]
  },
  {
   "cell_type": "markdown",
   "metadata": {},
   "source": [
    "<h2 align='center'>Section 1. For loops, if/else and while statements</h2>\n",
    "\n",
    "In this section we will go over basic syntax used in for loops, if/else and while statements. "
   ]
  },
  {
   "cell_type": "code",
   "execution_count": 3,
   "metadata": {},
   "outputs": [
    {
     "name": "stdout",
     "output_type": "stream",
     "text": [
      "2\n",
      "4\n",
      "6\n",
      "8\n"
     ]
    }
   ],
   "source": [
    "# Basic for loop syntax\n",
    "for i in range(1,5):\n",
    "    print(i*2)"
   ]
  },
  {
   "cell_type": "code",
   "execution_count": 4,
   "metadata": {},
   "outputs": [
    {
     "name": "stdout",
     "output_type": "stream",
     "text": [
      "True that.\n"
     ]
    }
   ],
   "source": [
    "# Basic if/else syntax\n",
    "a_variable = True\n",
    "if a_variable==True:\n",
    "    print(\"True that.\")\n",
    "else:\n",
    "    print(\"False that.\")"
   ]
  },
  {
   "cell_type": "code",
   "execution_count": 5,
   "metadata": {},
   "outputs": [
    {
     "name": "stdout",
     "output_type": "stream",
     "text": [
      "3\n",
      "6\n",
      "9\n",
      "12\n"
     ]
    }
   ],
   "source": [
    "# Basic while syntax\n",
    "condition = 1\n",
    "while condition<5:\n",
    "    print(condition*3)\n",
    "    condition = condition + 1"
   ]
  },
  {
   "cell_type": "markdown",
   "metadata": {},
   "source": [
    "<h2 align='center'>Section 2. Defininign a Function</h2>\n"
   ]
  },
  {
   "cell_type": "code",
   "execution_count": 6,
   "metadata": {},
   "outputs": [],
   "source": [
    "def my_function(number_repetitions):\n",
    "    for i in range(number_repetitions):\n",
    "        if number_repetitions%2==0:\n",
    "            return True\n",
    "        else:\n",
    "            return False"
   ]
  },
  {
   "cell_type": "code",
   "execution_count": 7,
   "metadata": {},
   "outputs": [
    {
     "data": {
      "text/plain": [
       "True"
      ]
     },
     "execution_count": 7,
     "metadata": {},
     "output_type": "execute_result"
    }
   ],
   "source": [
    "nu_rep = 10\n",
    "my_function(nu_rep)"
   ]
  },
  {
   "cell_type": "code",
   "execution_count": 8,
   "metadata": {},
   "outputs": [
    {
     "data": {
      "text/plain": [
       "False"
      ]
     },
     "execution_count": 8,
     "metadata": {},
     "output_type": "execute_result"
    }
   ],
   "source": [
    "nu_rep = 5\n",
    "my_function(nu_rep)"
   ]
  },
  {
   "cell_type": "markdown",
   "metadata": {},
   "source": [
    "<h2 align='center'>Section 3. Importing Modules</h2>\n"
   ]
  },
  {
   "cell_type": "code",
   "execution_count": 9,
   "metadata": {},
   "outputs": [],
   "source": [
    "import random"
   ]
  },
  {
   "cell_type": "code",
   "execution_count": 10,
   "metadata": {},
   "outputs": [
    {
     "name": "stdout",
     "output_type": "stream",
     "text": [
      "1\n"
     ]
    }
   ],
   "source": [
    "# To call a function from the random module use the syntax\n",
    "# module.function()\n",
    "# For example\n",
    "\n",
    "dice_outcome = random.choice([1,2,3,4,5,6])\n",
    "print(dice_outcome)"
   ]
  },
  {
   "cell_type": "code",
   "execution_count": 11,
   "metadata": {},
   "outputs": [
    {
     "name": "stdout",
     "output_type": "stream",
     "text": [
      "1\n",
      "5\n",
      "2\n",
      "4\n",
      "6\n"
     ]
    }
   ],
   "source": [
    "# Use a for loop \n",
    "for i in range(5):\n",
    "    print(random.choice([1,2,3,4,5,6]))"
   ]
  },
  {
   "cell_type": "markdown",
   "metadata": {},
   "source": [
    "<h2 align='center'>Setting up the Game</h2>\n",
    "\n"
   ]
  },
  {
   "cell_type": "markdown",
   "metadata": {},
   "source": [
    "Let us begin to set up the game. \n",
    "\n",
    "Let's suppose we have two dice P, N each with six faces. Let us use P to track the amount of \"positive luck\"  and N the amount og \"negative luck\". \n",
    "\n",
    "Let T denote total luck, where T is calculated by substracting the amount of negative luck from the amount of positive luck. If the number in P is higher than or equal to N, then we say we have \"good luck\". We say we have \"bad luck\" otherwise. \n",
    "\n",
    "Complete the following function that simulates rolling the P and N dices. If we have good luck, it will return True. If we have bad luck it will return False. \n",
    "\n",
    "A player is anyone who rolls P, N dice with the purpose of obtaining a good or a back luck outcome. "
   ]
  },
  {
   "cell_type": "code",
   "execution_count": 12,
   "metadata": {},
   "outputs": [],
   "source": [
    "### Complete the blanks _________\n",
    "def roll_dice():\n",
    "    positive_luck = random.choice([1,2,3,4,5,6])\n",
    "    negative_luck = _________\n",
    "    # print(negative_luck)\n",
    "    # print(positive_luck)\n",
    "    \n",
    "    if positive_luck - negative_luck >= 0:\n",
    "        return True\n",
    "    else: \n",
    "        return _________\n",
    "        "
   ]
  },
  {
   "cell_type": "code",
   "execution_count": 13,
   "metadata": {},
   "outputs": [
    {
     "data": {
      "text/plain": [
       "False"
      ]
     },
     "execution_count": 13,
     "metadata": {},
     "output_type": "execute_result"
    }
   ],
   "source": [
    "roll_dice()\n"
   ]
  },
  {
   "cell_type": "markdown",
   "metadata": {},
   "source": [
    "We observe that the sample space in this game is given as follows:\n",
    "\n",
    "![SampleSpace](./images/PosNeg.png)"
   ]
  },
  {
   "cell_type": "markdown",
   "metadata": {},
   "source": [
    "From our definition of Good Luck, we see that we have a higher probability of obtaining a favourable outcome than a negative one. Therefore this is an unfair game. "
   ]
  },
  {
   "cell_type": "markdown",
   "metadata": {},
   "source": [
    "Let us introduce two players Alice and Bob. Both Alice and Bob are given 100 points. \n",
    "\n",
    "They roll the two dice once. If the outcome is Good luck Alice wins and takes half of Bob's points. If the outcome is Bad luck, Bob wins and takes half of Alice's points. \n",
    "\n",
    "Players can reroll dice and take points from each other until one of the players decides to withdraw. Players can withdraw at any time during the game. \n",
    "\n",
    "This is clearly a bad deal of Bob. Suppose both Bob and Alice are unaware that this is an unfair game. \n",
    "\n",
    "Let us simulate what would happen if they chose to play. "
   ]
  },
  {
   "cell_type": "code",
   "execution_count": 14,
   "metadata": {},
   "outputs": [],
   "source": [
    "def simulate_unfair_game(points_A,points_B,number_of_games):\n",
    "    \n",
    "    # Store points in arrays\n",
    "    # We will plot these in the next exercise \n",
    "    # Number of games played\n",
    "    x_coord = []\n",
    "    # Alice's points\n",
    "    y_coord_A = []\n",
    "    # Bob's points\n",
    "    y_coord_B = []\n",
    "    \n",
    "    # Set initial number of points\n",
    "    value_A = points_A\n",
    "    value_B = points_B\n",
    "    \n",
    "    \n",
    "    # Initialize number of turns to 1\n",
    "    turn_number = 1\n",
    "    \n",
    "    # \n",
    "    while turn_number <= number_of_games:\n",
    "        # If outcome is Goog luck\n",
    "        if roll_dice():\n",
    "            \n",
    "            # Add turn number to x_coord\n",
    "            x_coord.append(turn_number)\n",
    "            \n",
    "            # Increase turn number\n",
    "            turn_number = turn_number + 1\n",
    "            \n",
    "            # Add points for Alice and Bob\n",
    "            y_coord_A.append(value_A)\n",
    "            y_coord_B.append(value_B)\n",
    "            \n",
    "            # Bob loses half of his points\n",
    "            value_B = value_B  - (value_B/2)\n",
    "            \n",
    "            # Since outcome is good luck, Alice gets half of Bob's points\n",
    "            value_A = value_A + value_B\n",
    "\n",
    "            \n",
    "        # If outcome is Bad luck\n",
    "        else:\n",
    "            # Add turn number of x_cord\n",
    "            x_coord.append(turn_number)\n",
    "            \n",
    "            # Increase number of turns\n",
    "            turn_number += 1\n",
    "            \n",
    "            # Add points for Alice and Bob\n",
    "            y_coord_A.append(value_A)\n",
    "            y_coord_B.append(value_B)\n",
    "            \n",
    "            # Since outcome is bad luck, Bob gets half of Alice's points\n",
    "            # Alice loses half of her points\n",
    "            \n",
    "            value_A = value_A - value_A/2\n",
    "            value_B = value_B + value_A\n",
    "            \n",
    "            \n",
    "    return [x_coord,y_coord_A,y_coord_B]"
   ]
  },
  {
   "cell_type": "code",
   "execution_count": 15,
   "metadata": {},
   "outputs": [
    {
     "name": "stdout",
     "output_type": "stream",
     "text": [
      "[1, 2, 3, 4, 5, 6, 7, 8, 9, 10]\n",
      "[100, 150.0, 175.0, 187.5, 193.75, 96.875, 48.4375, 24.21875, 12.109375, 6.0546875]\n",
      "[100, 50.0, 25.0, 12.5, 6.25, 103.125, 151.5625, 175.78125, 187.890625, 193.9453125]\n"
     ]
    }
   ],
   "source": [
    "[x_co,y_co_A,y_co_B] = simulate_unfair_game(100,100,10)\n",
    "for item in [x_co,y_co_A,y_co_B]:\n",
    "    print(item)"
   ]
  },
  {
   "cell_type": "markdown",
   "metadata": {},
   "source": [
    "<h2 align='center'>Section 4. 2D plotting with matplotlib</h2>\n",
    "\n",
    "We begin by importing the pyplot function within the matplotlib module. "
   ]
  },
  {
   "cell_type": "code",
   "execution_count": 16,
   "metadata": {},
   "outputs": [],
   "source": [
    "import matplotlib.pyplot as plt"
   ]
  },
  {
   "cell_type": "code",
   "execution_count": 17,
   "metadata": {},
   "outputs": [
    {
     "data": {
      "image/png": "[encoded data removed]",
      "text/plain": [
       "<Figure size 720x720 with 1 Axes>"
      ]
     },
     "metadata": {
      "needs_background": "light"
     },
     "output_type": "display_data"
    }
   ],
   "source": [
    "# We begin by initializing our figure\n",
    "fig,ax1 = plt.subplots(figsize=(10,10))\n",
    "\n",
    "# Set x, y axis limits\n",
    "ax1.set_xlim([0,10])\n",
    "ax1.set_ylim([0,10])\n",
    "\n",
    "# Plot a line\n",
    "ax1.plot([2,8],[2,8])\n",
    "\n",
    "# X, Y labels\n",
    "ax1.set_ylabel(\"X axis\",fontsize=25)\n",
    "ax1.set_xlabel(\"Y axis\",fontsize=25)\n",
    "\n",
    "# Title\n",
    "ax1.set_title(\"A Plot\",fontsize=25)\n",
    "\n",
    "\n",
    "# Show the figure\n",
    "plt.show()"
   ]
  },
  {
   "cell_type": "markdown",
   "metadata": {},
   "source": [
    "Print the outcome of our simulation\n"
   ]
  },
  {
   "cell_type": "code",
   "execution_count": 18,
   "metadata": {},
   "outputs": [
    {
     "name": "stdout",
     "output_type": "stream",
     "text": [
      "[[1, 2, 3, 4, 5, 6, 7, 8, 9, 10], [100, 150.0, 175.0, 187.5, 193.75, 96.875, 48.4375, 24.21875, 12.109375, 6.0546875], [100, 50.0, 25.0, 12.5, 6.25, 103.125, 151.5625, 175.78125, 187.890625, 193.9453125]]\n"
     ]
    }
   ],
   "source": [
    "print([x_co,y_co_A,y_co_B])"
   ]
  },
  {
   "cell_type": "markdown",
   "metadata": {},
   "source": [
    "The first array corresponds to the number of times they play. \n",
    "\n",
    "The second array corresponds to the number of points Alice gets in each turn while the third array corresponds to the number of points Bob gets in each turn."
   ]
  },
  {
   "cell_type": "markdown",
   "metadata": {},
   "source": [
    "Let us plot the results."
   ]
  },
  {
   "cell_type": "code",
   "execution_count": 2,
   "metadata": {},
   "outputs": [
    {
     "ename": "NameError",
     "evalue": "name 'plt' is not defined",
     "output_type": "error",
     "traceback": [
      "\u001b[0;31m---------------------------------------------------------------------------\u001b[0m",
      "\u001b[0;31mNameError\u001b[0m                                 Traceback (most recent call last)",
      "\u001b[0;32m<ipython-input-2-6e977c671329>\u001b[0m in \u001b[0;36m<module>\u001b[0;34m\u001b[0m\n\u001b[1;32m      5\u001b[0m \u001b[0;34m\u001b[0m\u001b[0m\n\u001b[1;32m      6\u001b[0m \u001b[0;31m# Initialize figure\u001b[0m\u001b[0;34m\u001b[0m\u001b[0;34m\u001b[0m\u001b[0;34m\u001b[0m\u001b[0m\n\u001b[0;32m----> 7\u001b[0;31m \u001b[0mfig\u001b[0m\u001b[0;34m,\u001b[0m\u001b[0max\u001b[0m \u001b[0;34m=\u001b[0m \u001b[0mplt\u001b[0m\u001b[0;34m.\u001b[0m\u001b[0msubplots\u001b[0m\u001b[0;34m(\u001b[0m\u001b[0mfigsize\u001b[0m\u001b[0;34m=\u001b[0m\u001b[0;34m(\u001b[0m\u001b[0;36m10\u001b[0m\u001b[0;34m,\u001b[0m\u001b[0;36m10\u001b[0m\u001b[0;34m)\u001b[0m\u001b[0;34m)\u001b[0m\u001b[0;34m\u001b[0m\u001b[0;34m\u001b[0m\u001b[0m\n\u001b[0m\u001b[1;32m      8\u001b[0m \u001b[0;34m\u001b[0m\u001b[0m\n\u001b[1;32m      9\u001b[0m \u001b[0;31m# Adjust x, y axis\u001b[0m\u001b[0;34m\u001b[0m\u001b[0;34m\u001b[0m\u001b[0;34m\u001b[0m\u001b[0m\n",
      "\u001b[0;31mNameError\u001b[0m: name 'plt' is not defined"
     ]
    }
   ],
   "source": [
    "# Try different values and rerun the cell\n",
    "initial_pointsa = 100\n",
    "initial_pointsb = 100\n",
    "number_turns = 10\n",
    "\n",
    "# Initialize figure\n",
    "fig,ax = plt.subplots(figsize=(10,10))\n",
    "\n",
    "# Adjust x, y axis\n",
    "ax.set_xlim([0,number_turns + 1])\n",
    "ax.set_ylim([0,200])\n",
    "ax.grid(True)\n",
    "\n",
    "# Begin simulation\n",
    "[x_co,y_co_A,y_co_B] = simulate_unfair_game(initial_pointsa,initial_pointsb,number_turns)\n",
    "\n",
    "# Plot Simulation\n",
    "# Alice's points\n",
    "ax.plot(x_co,y_co_A,color='#8642f4',label=\"Alice\")\n",
    "\n",
    "# Bob's points\n",
    "ax.plot(x_co,y_co_B,color='#518900',label=\"Bob\")\n",
    "\n",
    "# Label the figure\n",
    "ax.set_ylabel(\"Number of points\",fontsize=25)\n",
    "ax.set_xlabel(\"Number of turns\",fontsize=25)\n",
    "ax.set_title(\"Positive vs Negative Luck Game Simulation\",fontsize=25)\n",
    "plt.legend(bbox_to_anchor=(1.05, 1), loc=2, borderaxespad=1.)\n",
    "\n",
    "# Show figure\n",
    "plt.show()"
   ]
  },
  {
   "cell_type": "markdown",
   "metadata": {},
   "source": [
    "#### Exercise\n",
    "\n",
    "Turn the code above into a function whose parameters are total number of turns, and initial points for Bob and Alice. \n",
    "\n",
    "What happens when each player is give a different number of points? \n",
    "\n"
   ]
  },
  {
   "cell_type": "code",
   "execution_count": null,
   "metadata": {},
   "outputs": [],
   "source": [
    "# your code here:\n",
    "def plotsimulation(______________):\n",
    "    __________________\n",
    "    _________________\n",
    "    __________________"
   ]
  },
  {
   "cell_type": "code",
   "execution_count": 20,
   "metadata": {},
   "outputs": [
    {
     "data": {
      "image/png": "[encoded data removed]",
      "text/plain": [
       "<Figure size 720x720 with 1 Axes>"
      ]
     },
     "metadata": {
      "needs_background": "light"
     },
     "output_type": "display_data"
    }
   ],
   "source": [
    "plotsimulation(150,60,10)"
   ]
  },
  {
   "cell_type": "markdown",
   "metadata": {},
   "source": [
    "<h2 align='center'>BONUS: Widgets</h2>\n",
    "\n",
    "We can create a nice user interface to run several simulations of the game. \n",
    "\n",
    "The interact_manual and interact functions from the ipywidgets modules allows us to use sliders and buttons. "
   ]
  },
  {
   "cell_type": "code",
   "execution_count": 3,
   "metadata": {},
   "outputs": [
    {
     "data": {
      "application/vnd.jupyter.widget-view+json": {
       "model_id": "b3a617e9ad4040a493c5249f3c0f519f",
       "version_major": 2,
       "version_minor": 0
      },
      "text/plain": [
       "interactive(children=(IntSlider(value=10, continuous_update=False, description='Number of turns', min=2, style…"
      ]
     },
     "metadata": {},
     "output_type": "display_data"
    }
   ],
   "source": [
    "from ipywidgets import interact, interact_manual, widgets\n",
    "def simple_function(x):\n",
    "    print(x)\n",
    "style = {'description_width': 'initial'}\n",
    "    \n",
    "interact(simple_function,x=widgets.IntSlider(\n",
    "            value=10,\n",
    "            min=2,\n",
    "            max=100,\n",
    "            step=1,\n",
    "            description='Number of turns',\n",
    "            disabled=False,\n",
    "            continuous_update=False,\n",
    "            orientation='horizontal',\n",
    "            readout=True,\n",
    "            readout_format='d',\n",
    "            style =style\n",
    "));"
   ]
  },
  {
   "cell_type": "markdown",
   "metadata": {},
   "source": [
    "<h2 align='center'>Challenge</h2>\n",
    "\n",
    "The cell below contains all functions we worked on during the workshop. \n",
    "\n",
    "Substitute the plot_unfair_simulation(number_turns) for the function you defined plot_unfair_simulation(number_turns,points_bob,points_alicece)\n",
    "\n",
    "Modify the interact_manual command so that widgets are added that would allow you to modify the initial number of points Bob and Alice are given. "
   ]
  },
  {
   "cell_type": "code",
   "execution_count": 22,
   "metadata": {},
   "outputs": [
    {
     "data": {
      "application/vnd.jupyter.widget-view+json": {
       "model_id": "cf8c8137c85a443fa2a700d0a3c162d7",
       "version_major": 2,
       "version_minor": 0
      },
      "text/plain": [
       "interactive(children=(IntSlider(value=10, continuous_update=False, description='Number of turns', min=2, style…"
      ]
     },
     "metadata": {},
     "output_type": "display_data"
    }
   ],
   "source": [
    "from ipywidgets import interact, interact_manual, widgets\n",
    "import random\n",
    "import matplotlib.pyplot as plt\n",
    "\n",
    "style = {'description_width': 'initial'}\n",
    "\n",
    "\n",
    "def roll_dice():\n",
    "    positive_luck = random.choice([1,2,4,5,6])\n",
    "    negative_luck = random.choice([1,2,4,5,6])\n",
    "    \n",
    "    if positive_luck - negative_luck >= 0:\n",
    "        return True\n",
    "    else:\n",
    "        return False\n",
    "\n",
    "def simulate_unfair_game(points_A,points_B,number_of_games):\n",
    "    \n",
    "    x_coord = []\n",
    "    y_coord_A = []\n",
    "    y_coord_B = []\n",
    "    \n",
    "    value_A = points_A\n",
    "    value_B = points_B\n",
    "    \n",
    "    \n",
    "    turn_number = 1\n",
    "    \n",
    "    while turn_number <= number_of_games:\n",
    "        if roll_dice():\n",
    "            x_coord.append(turn_number)\n",
    "            turn_number += 1\n",
    "            \n",
    "            y_coord_A.append(value_A)\n",
    "            y_coord_B.append(value_B)\n",
    "            value_B = value_B  - (value_B/2)\n",
    "            value_A = value_A + value_B\n",
    "\n",
    "            \n",
    "        else:\n",
    "            x_coord.append(turn_number)\n",
    "            turn_number += 1\n",
    "            \n",
    "            y_coord_A.append(value_A)\n",
    "            y_coord_B.append(value_B)\n",
    "            value_A = value_A - value_A/2\n",
    "            value_B = value_B  + value_A\n",
    "    return [x_coord,y_coord_A,y_coord_B]\n",
    "\n",
    "\n",
    "def plot_unfair_simulation(number_turns,points_bob,points_alice):\n",
    "\n",
    "    fig,ax = plt.subplots(figsize=(10,10))\n",
    "    ax.set_xlim([0,number_turns + 1])\n",
    "    ax.set_ylim([0,200])\n",
    "    ax.grid(True)\n",
    "\n",
    "    [x_co,y_co_A,y_co_B] = simulate_unfair_game(points_bob,points_alice,number_turns)\n",
    "    \n",
    "    ax.plot(x_co,y_co_A,color='#8642f4',label=\"Alice\")\n",
    "    ax.plot(x_co,y_co_B,color='#518900',label=\"Bob\")\n",
    "    ax.set_ylabel(\"Number of points\",fontsize=25)\n",
    "    ax.set_xlabel(\"Number of turns\",fontsize=25)\n",
    "    ax.set_title(\"Positive vs Negative Luck Game Simulation\",fontsize=25)\n",
    "    plt.legend(bbox_to_anchor=(1.05, 1), loc=2, borderaxespad=1.)\n",
    "\n",
    "\n",
    "    plt.show()\n",
    "    \n",
    "interact_manual();"
   ]
  }
 ],
 "metadata": {
  "kernelspec": {
   "display_name": "Python 3",
   "language": "python",
   "name": "python3"
  },
  "language_info": {
   "codemirror_mode": {
    "name": "ipython",
    "version": 3
   },
   "file_extension": ".py",
   "mimetype": "text/x-python",
   "name": "python",
   "nbconvert_exporter": "python",
   "pygments_lexer": "ipython3",
   "version": "3.7.3"
  }
 },
 "nbformat": 4,
 "nbformat_minor": 2
}
