{
 "cells": [
  {
   "cell_type": "markdown",
   "metadata": {},
   "source": [
    "## This is a title\n",
    "### This is a subtitle\n",
    "\n",
    "Date: November 2019\n",
    "\n",
    "Description: Coding with Python Intro"
   ]
  },
  {
   "cell_type": "code",
   "execution_count": null,
   "metadata": {},
   "outputs": [],
   "source": [
    "# Printing to screen\n",
    "print(\"My name is Laura\")"
   ]
  },
  {
   "cell_type": "code",
   "execution_count": null,
   "metadata": {},
   "outputs": [],
   "source": [
    "%%html \n",
    "<h1> Heading </h1>"
   ]
  },
  {
   "cell_type": "code",
   "execution_count": null,
   "metadata": {},
   "outputs": [],
   "source": [
    "!git clone https://github.com/lfunderburk/Interactive_Jupyter"
   ]
  },
  {
   "cell_type": "code",
   "execution_count": null,
   "metadata": {},
   "outputs": [],
   "source": [
    "1 + 2 "
   ]
  },
  {
   "cell_type": "markdown",
   "metadata": {},
   "source": [
    "### Mathematical operations\n",
    "\n",
    "* Addition: use `+`\n",
    "* Subtraction: use `-`\n",
    "* Multiplication: use `*`\n",
    "* Division: use `/`\n",
    "* Power: use `**`"
   ]
  },
  {
   "cell_type": "code",
   "execution_count": null,
   "metadata": {},
   "outputs": [],
   "source": [
    "print(2-3)"
   ]
  },
  {
   "cell_type": "code",
   "execution_count": null,
   "metadata": {},
   "outputs": [],
   "source": [
    "2**2"
   ]
  },
  {
   "cell_type": "code",
   "execution_count": null,
   "metadata": {},
   "outputs": [],
   "source": [
    "1 + 2*3"
   ]
  },
  {
   "cell_type": "markdown",
   "metadata": {},
   "source": [
    "### Creating Variables"
   ]
  },
  {
   "cell_type": "code",
   "execution_count": null,
   "metadata": {},
   "outputs": [],
   "source": [
    "instructor_age = 27 \n",
    "instructor_first_name = \"Laura\"\n",
    "instructor_email = 'Laura@email.ca'"
   ]
  },
  {
   "cell_type": "code",
   "execution_count": null,
   "metadata": {},
   "outputs": [],
   "source": [
    "print(instructor_age)"
   ]
  },
  {
   "cell_type": "code",
   "execution_count": null,
   "metadata": {},
   "outputs": [],
   "source": [
    "print(instructor_first_name + \" is \" + str(instructor_age) + \" old.\")"
   ]
  },
  {
   "cell_type": "code",
   "execution_count": null,
   "metadata": {},
   "outputs": [],
   "source": [
    "print(instructor_age, instructor_first_name, instructor_email)"
   ]
  },
  {
   "cell_type": "markdown",
   "metadata": {},
   "source": [
    "### Practice\n",
    "Define two variables called `my_age` and `my_first_name` with your age and first name. Use `print` to print a similar message I did above using your information.\n",
    "\n",
    "Remember that there are two instructors available to help if you need it!"
   ]
  },
  {
   "cell_type": "code",
   "execution_count": null,
   "metadata": {},
   "outputs": [],
   "source": [
    "my_age = 27 \n",
    "my_name = \"Laura\" \n",
    "print(my_name + \" is \" + str(my_age) + \" years old.\")\n",
    "print(my_name, my_age)"
   ]
  },
  {
   "cell_type": "markdown",
   "metadata": {},
   "source": [
    "## Variable Types"
   ]
  },
  {
   "cell_type": "code",
   "execution_count": null,
   "metadata": {},
   "outputs": [],
   "source": [
    "type(instructor_age)"
   ]
  },
  {
   "cell_type": "code",
   "execution_count": null,
   "metadata": {},
   "outputs": [],
   "source": [
    "type(instructor_email)"
   ]
  },
  {
   "cell_type": "code",
   "execution_count": null,
   "metadata": {},
   "outputs": [],
   "source": [
    "type(print)"
   ]
  },
  {
   "cell_type": "code",
   "execution_count": null,
   "metadata": {},
   "outputs": [],
   "source": [
    "# This is bad practice... do not do it!\n",
    "# print = 123"
   ]
  },
  {
   "cell_type": "code",
   "execution_count": null,
   "metadata": {},
   "outputs": [],
   "source": [
    "print(\"Hello\")"
   ]
  },
  {
   "cell_type": "code",
   "execution_count": null,
   "metadata": {},
   "outputs": [],
   "source": [
    "1 + 1.2"
   ]
  },
  {
   "cell_type": "code",
   "execution_count": null,
   "metadata": {},
   "outputs": [],
   "source": [
    "str(1) + \"a\""
   ]
  },
  {
   "cell_type": "markdown",
   "metadata": {},
   "source": [
    "## Arrays"
   ]
  },
  {
   "cell_type": "code",
   "execution_count": null,
   "metadata": {},
   "outputs": [],
   "source": [
    "my_arr = [1,2,\"pe\", \"c\",[1,2,3]]"
   ]
  },
  {
   "cell_type": "code",
   "execution_count": null,
   "metadata": {},
   "outputs": [],
   "source": [
    "# Slicing\n",
    "# Indeces start from 0 and go all the to n-1, where n is the size of the array\n",
    "length_of_arr = len(my_arr)\n",
    "list(range(5))"
   ]
  },
  {
   "cell_type": "code",
   "execution_count": null,
   "metadata": {},
   "outputs": [],
   "source": [
    "my_arr[0]"
   ]
  },
  {
   "cell_type": "code",
   "execution_count": null,
   "metadata": {},
   "outputs": [],
   "source": [
    "my_arr[0] + my_arr[1]"
   ]
  },
  {
   "cell_type": "code",
   "execution_count": null,
   "metadata": {},
   "outputs": [],
   "source": [
    "my_arr[4][-1]"
   ]
  },
  {
   "cell_type": "code",
   "execution_count": null,
   "metadata": {},
   "outputs": [],
   "source": [
    "# 0 1 2 3 \n",
    "my_arr[0:3]"
   ]
  },
  {
   "cell_type": "code",
   "execution_count": null,
   "metadata": {},
   "outputs": [],
   "source": [
    "list(range(1,5))"
   ]
  },
  {
   "cell_type": "markdown",
   "metadata": {},
   "source": [
    "## Manipulating Strings"
   ]
  },
  {
   "cell_type": "code",
   "execution_count": null,
   "metadata": {},
   "outputs": [],
   "source": [
    "instructor_first_name"
   ]
  },
  {
   "cell_type": "code",
   "execution_count": null,
   "metadata": {},
   "outputs": [],
   "source": [
    "instructor_first_name[0:2]"
   ]
  },
  {
   "cell_type": "code",
   "execution_count": null,
   "metadata": {},
   "outputs": [],
   "source": [
    "instructor_first_name[0]"
   ]
  },
  {
   "cell_type": "code",
   "execution_count": null,
   "metadata": {},
   "outputs": [],
   "source": [
    "list(instructor_first_name)"
   ]
  },
  {
   "cell_type": "code",
   "execution_count": null,
   "metadata": {},
   "outputs": [],
   "source": [
    "instructor_first_name[::-1]"
   ]
  },
  {
   "cell_type": "markdown",
   "metadata": {},
   "source": [
    "## Methods"
   ]
  },
  {
   "cell_type": "code",
   "execution_count": null,
   "metadata": {},
   "outputs": [],
   "source": [
    "# Turn all letters into upper case\n",
    "instructor_first_name.upper()"
   ]
  },
  {
   "cell_type": "code",
   "execution_count": null,
   "metadata": {},
   "outputs": [],
   "source": [
    "instructor_first_name.lower()"
   ]
  },
  {
   "cell_type": "code",
   "execution_count": null,
   "metadata": {},
   "outputs": [],
   "source": [
    "my_name"
   ]
  },
  {
   "cell_type": "code",
   "execution_count": null,
   "metadata": {},
   "outputs": [],
   "source": [
    "my_new_name = my_name.replace(\"ra\",\"ren\")"
   ]
  },
  {
   "cell_type": "code",
   "execution_count": null,
   "metadata": {},
   "outputs": [],
   "source": [
    "my_name"
   ]
  },
  {
   "cell_type": "code",
   "execution_count": null,
   "metadata": {},
   "outputs": [],
   "source": [
    "entry_one = \"String + \\n\"\n",
    "entry_two = \"String + \\t\""
   ]
  },
  {
   "cell_type": "code",
   "execution_count": null,
   "metadata": {},
   "outputs": [],
   "source": [
    "entry_two.replace(\"\\t\", \"\\n\")"
   ]
  },
  {
   "cell_type": "code",
   "execution_count": null,
   "metadata": {},
   "outputs": [],
   "source": [
    "h = 3\n",
    "#h.replace(3,4)"
   ]
  },
  {
   "cell_type": "code",
   "execution_count": null,
   "metadata": {},
   "outputs": [],
   "source": [
    "my_new_name"
   ]
  },
  {
   "cell_type": "code",
   "execution_count": null,
   "metadata": {
    "scrolled": true
   },
   "outputs": [],
   "source": [
    "dir(my_name)"
   ]
  },
  {
   "cell_type": "code",
   "execution_count": null,
   "metadata": {},
   "outputs": [],
   "source": [
    "?my_name.replace"
   ]
  },
  {
   "cell_type": "markdown",
   "metadata": {},
   "source": [
    "## List methods"
   ]
  },
  {
   "cell_type": "code",
   "execution_count": null,
   "metadata": {},
   "outputs": [],
   "source": [
    "measurements= [0.273, 0.275, 0.277, 0.275]"
   ]
  },
  {
   "cell_type": "code",
   "execution_count": null,
   "metadata": {},
   "outputs": [],
   "source": [
    "len(measurements)"
   ]
  },
  {
   "cell_type": "code",
   "execution_count": null,
   "metadata": {},
   "outputs": [],
   "source": [
    "measurements[1:3]"
   ]
  },
  {
   "cell_type": "code",
   "execution_count": null,
   "metadata": {},
   "outputs": [],
   "source": [
    "measurements.append(0.37)"
   ]
  },
  {
   "cell_type": "code",
   "execution_count": null,
   "metadata": {},
   "outputs": [],
   "source": [
    "measurements"
   ]
  },
  {
   "cell_type": "code",
   "execution_count": null,
   "metadata": {},
   "outputs": [],
   "source": [
    "measurements.insert(2,1)"
   ]
  },
  {
   "cell_type": "code",
   "execution_count": null,
   "metadata": {},
   "outputs": [],
   "source": [
    "measurements"
   ]
  },
  {
   "cell_type": "code",
   "execution_count": null,
   "metadata": {},
   "outputs": [],
   "source": [
    "measurements.remove(0.37)"
   ]
  },
  {
   "cell_type": "code",
   "execution_count": null,
   "metadata": {},
   "outputs": [],
   "source": [
    "measurements"
   ]
  },
  {
   "cell_type": "code",
   "execution_count": null,
   "metadata": {},
   "outputs": [],
   "source": [
    "measurements.pop(2)"
   ]
  },
  {
   "cell_type": "code",
   "execution_count": null,
   "metadata": {},
   "outputs": [],
   "source": [
    "measurements"
   ]
  },
  {
   "cell_type": "markdown",
   "metadata": {},
   "source": [
    "### Practice\n",
    "\n",
    "Create a list containing the names of at least 3 people you know.\n",
    "* Using that list, add a fourth person to the end.\n",
    "* Using that list, capitalize the name of the second person (you may need to look back at the methods we used on strings)\n",
    "* Use the `index` method for lists (look at help) to find the position of one of the names. Use `del` to then remove that person."
   ]
  },
  {
   "cell_type": "code",
   "execution_count": null,
   "metadata": {},
   "outputs": [],
   "source": [
    "my_list= [\"Pete\",\"Joe\",\"Nina\"]\n",
    "#my_list[1] = my_list[1].upper()"
   ]
  },
  {
   "cell_type": "code",
   "execution_count": null,
   "metadata": {},
   "outputs": [],
   "source": [
    "my_list"
   ]
  },
  {
   "cell_type": "code",
   "execution_count": null,
   "metadata": {},
   "outputs": [],
   "source": [
    "# Complete solution\n",
    "my_list= [\"Pete\",\"Joe\",\"Nina\"]\n",
    "print(my_list)\n",
    "my_list[1] = my_list[1].upper()\n",
    "print(my_list)\n",
    "help(my_list.index)\n",
    "del my_list[1]\n",
    "print(my_list)"
   ]
  },
  {
   "cell_type": "code",
   "execution_count": null,
   "metadata": {},
   "outputs": [],
   "source": [
    "help(my_list.index)"
   ]
  },
  {
   "cell_type": "code",
   "execution_count": null,
   "metadata": {},
   "outputs": [],
   "source": [
    "del my_list[1]"
   ]
  },
  {
   "cell_type": "code",
   "execution_count": null,
   "metadata": {},
   "outputs": [],
   "source": [
    "my_list"
   ]
  },
  {
   "cell_type": "markdown",
   "metadata": {},
   "source": [
    "##### Lunch break ..."
   ]
  },
  {
   "cell_type": "markdown",
   "metadata": {},
   "source": [
    "## For Loops"
   ]
  },
  {
   "cell_type": "code",
   "execution_count": null,
   "metadata": {},
   "outputs": [],
   "source": [
    "### Make objects like lists in Python\n",
    "friends = [\"Peter\", \"Laura\", \"Louis\"]"
   ]
  },
  {
   "cell_type": "code",
   "execution_count": null,
   "metadata": {},
   "outputs": [],
   "source": [
    "friends"
   ]
  },
  {
   "cell_type": "code",
   "execution_count": null,
   "metadata": {},
   "outputs": [],
   "source": [
    "##We also looked at methods applied to python objects\n",
    "\"Peter\".upper()\n",
    "friends.upper()"
   ]
  },
  {
   "cell_type": "code",
   "execution_count": null,
   "metadata": {},
   "outputs": [],
   "source": [
    "friends[0].upper()"
   ]
  },
  {
   "cell_type": "code",
   "execution_count": null,
   "metadata": {},
   "outputs": [],
   "source": [
    "# How do I apply the upper() method to all elements of my list?\n",
    "# The answer is: FOR LOOPs\n",
    "for item in friends:\n",
    "    print(item.upper())\n",
    "\n",
    "#How do I make a new list with capitalized letters?????\n",
    "new_capital_list = []\n",
    "\n",
    "for item in friends:\n",
    "    new_capital_list.append( item.upper() )\n",
    "\n"
   ]
  },
  {
   "cell_type": "code",
   "execution_count": null,
   "metadata": {},
   "outputs": [],
   "source": [
    "new_capital_list"
   ]
  },
  {
   "cell_type": "code",
   "execution_count": null,
   "metadata": {},
   "outputs": [],
   "source": [
    "### Some helpful notes no For Loops:\n",
    "#1. We start a for loop with the keyword \"for\"\n",
    "#2. We define a temporary variable (in this case item is my temporary variable). \n",
    "#   item will be equal to each element of my list I'm iterating over \n",
    "#3. We use th keyword \"in\" to indicate which list we wawnt to iterate over\n",
    "#(in this case) it's the friends list\n",
    "#4. We end the line with a colon, to tell Python when to start our code"
   ]
  },
  {
   "cell_type": "code",
   "execution_count": null,
   "metadata": {},
   "outputs": [],
   "source": [
    "for item in friends:\n",
    "    friend_upper_case = item.upper()\n",
    "    print(\"Hello\", friend_upper_case)\n",
    "    print(\"Goodbye\", friend_upper_case)\n",
    "    print() #This prints a blank space\n",
    "    \n",
    "print(\"For loop is finished\")"
   ]
  },
  {
   "cell_type": "code",
   "execution_count": null,
   "metadata": {},
   "outputs": [],
   "source": [
    "friend_upper_case"
   ]
  },
  {
   "cell_type": "code",
   "execution_count": null,
   "metadata": {},
   "outputs": [],
   "source": [
    "#Now lets work with lists of numbers:\n",
    "list(range(0,5))\n",
    "\n",
    "\n",
    "###Use a for loop to calculate the sum of 1,2,3,...,100\n",
    "\n",
    "my_sum = 0\n",
    "for number in range(0,101):\n",
    "    my_sum = my_sum + number\n",
    "    \n",
    "print(my_sum)\n",
    "\n"
   ]
  },
  {
   "cell_type": "code",
   "execution_count": null,
   "metadata": {},
   "outputs": [],
   "source": [
    "my_sum = 0\n",
    "for number in range(0,4):\n",
    "    my_sum = my_sum + number\n",
    "    print(my_sum)"
   ]
  },
  {
   "cell_type": "code",
   "execution_count": null,
   "metadata": {},
   "outputs": [],
   "source": [
    "####\n",
    "#round(4.56, 0)\n",
    "\n",
    "my_numbers = [1.23, 4.56, 7.68]\n",
    "\n",
    "# Write a for loop that rounds reach number to 1 decimal place\n",
    "# (using the round function)\n",
    "\n",
    "#Note: round(my_numbers) will give error!!!\n",
    "\n",
    "my_rounded_numbers = []\n",
    "for item in my_numbers:\n",
    "    my_rounded_numbers.append(round(item, 1))\n",
    "\n",
    "print(my_rounded_numbers)\n"
   ]
  },
  {
   "cell_type": "code",
   "execution_count": null,
   "metadata": {},
   "outputs": [],
   "source": [
    "### One last on For loops:\n",
    "# List comprehension\n",
    "#Does the exact same thing as the previous for loop:\n",
    "rounded_numbers2 = [round(item, 1) for item in my_numbers]\n",
    "\n",
    "print(rounded_numbers2)\n",
    "\n"
   ]
  },
  {
   "cell_type": "code",
   "execution_count": null,
   "metadata": {},
   "outputs": [],
   "source": [
    "# Lets work with functions now\n",
    "my_numbers2 = [1.567, 4.222, 3.112]\n",
    "\n",
    "# Let's write a function that returns the rounded numbers of any object\n",
    "\n",
    "def rounded_list(my_list):\n",
    "    my_rounded_numbers = []\n",
    "    for item in my_list:\n",
    "        my_rounded_numbers.append(round(item, 1))\n",
    "    \n",
    "    return my_rounded_numbers\n",
    "\n",
    "\n"
   ]
  },
  {
   "cell_type": "code",
   "execution_count": null,
   "metadata": {},
   "outputs": [],
   "source": [
    "rounded_list(my_numbers)\n",
    "rounded_list(my_numbers2)"
   ]
  },
  {
   "cell_type": "code",
   "execution_count": null,
   "metadata": {},
   "outputs": [],
   "source": [
    "### Recall previously, we used a for loop to obtain the sum of 0,1,2,3,...100.\n",
    "# LEt's now try to write a function that calculate the sum of n integers.\n",
    "my_sum = 0\n",
    "for number in range(0,101):\n",
    "    my_sum = my_sum + number\n",
    "    \n",
    "#print(my_sum)\n",
    "\n",
    "\n",
    "#Exercise: Write a function that calculates the sum of n integers. set n as a paramter\n",
    "# in your function\n",
    "\n",
    "def sum_n(n):\n",
    "    ''' calculate sum of n integers\n",
    "    '''\n",
    "    my_sum = 0\n",
    "    for number in range(0,n+1):\n",
    "        my_sum = my_sum + number\n",
    "    \n",
    "    return my_sum\n",
    "    \n",
    "    \n",
    "sum_n(3)\n",
    "    \n",
    "#Test: n = 2 should return 3\n",
    "#Test: n = 3 should return 6\n",
    "#Test< n = 10 should be ???\n"
   ]
  },
  {
   "cell_type": "markdown",
   "metadata": {},
   "source": [
    "## If- (and if-else) statements"
   ]
  },
  {
   "cell_type": "code",
   "execution_count": null,
   "metadata": {},
   "outputs": [],
   "source": [
    "### If else statements allow us to choose when we apply a transformation on objects\n",
    "# within a list.\n",
    "\n",
    "my_numbers2 = [1.11, 3.2, 5.78, 9.0, 13.7]\n",
    "\n",
    "#Suppose I want rounded numbers ONLY for numbers greater than 10\n",
    "\n",
    "for number in my_numbers2:\n",
    "    if number > 0 and number < 4:\n",
    "        print(round(number,0))\n",
    "        print(\"Condition True\")\n",
    "    else:\n",
    "        print(\"Condition False\")\n",
    "        print(round(number,1))\n",
    "        \n",
    "### Let's write a function that returns a list of numbers, where the nuumbers greater \n",
    "#than 5 is rounded to 1 decimal place.\n",
    "\n",
    "my_numbers3 = [1.222, 2.345, 3.444, 5.021, 14.67]\n",
    "\n",
    "\n",
    "def rounding_greater5(my_list):\n",
    "    my_result = []\n",
    "    \n",
    "    for number in my_list:\n",
    "        \n",
    "        if number > 5:\n",
    "            my_result.append(round(number,1))\n",
    "        else:\n",
    "            my_result.append(number)\n",
    "            \n",
    "    return my_result"
   ]
  },
  {
   "cell_type": "code",
   "execution_count": null,
   "metadata": {
    "scrolled": true
   },
   "outputs": [],
   "source": [
    "rounding_greater5(my_numbers3)"
   ]
  },
  {
   "cell_type": "markdown",
   "metadata": {},
   "source": [
    "## Review"
   ]
  },
  {
   "cell_type": "code",
   "execution_count": null,
   "metadata": {},
   "outputs": [],
   "source": [
    "# Arrays and data structures\n",
    "my_dict = {\"keys\":[\"value1\",\"value2\",\"value3\"], \"keys2\":[str(1),str(2),str(3)]}\n",
    "my_arr = [1,2,3,4,5,\"a\",\"abc\",[1,2,3], my_dict]"
   ]
  },
  {
   "cell_type": "code",
   "execution_count": null,
   "metadata": {},
   "outputs": [],
   "source": [
    "my_arr[0]"
   ]
  },
  {
   "cell_type": "code",
   "execution_count": null,
   "metadata": {
    "scrolled": true
   },
   "outputs": [],
   "source": [
    "# We can iterate over the elements of an array by using a for loop\n",
    "length = len(my_arr)\n",
    "for i in range(length):\n",
    "    print(my_arr[i])"
   ]
  },
  {
   "cell_type": "code",
   "execution_count": null,
   "metadata": {},
   "outputs": [],
   "source": [
    "my_dict[\"keys\"] + my_dict['keys2']"
   ]
  },
  {
   "cell_type": "code",
   "execution_count": null,
   "metadata": {},
   "outputs": [],
   "source": [
    "# Iterating over elements in both lists to create a list with four elements\n",
    "# whose elements are the concatenation of list 1 to list 2\n",
    "new_list = []\n",
    "for i in range(3):\n",
    "    print( my_dict[\"keys\"][i]  + my_dict[\"keys2\"][i])\n",
    "    new_list.append(my_dict[\"keys\"][i]  + my_dict[\"keys2\"][i])"
   ]
  },
  {
   "cell_type": "code",
   "execution_count": null,
   "metadata": {},
   "outputs": [],
   "source": [
    "# Practice with dictionaries\n",
    "my_dictionary_2 = { 0: \"a\", 1 : \"b\", 2 : \"c\", 3 : \"d\" }\n",
    "array = [1, 2, 3, 1, 1, 3, 2, 2]\n",
    "# Create new array that transforms integers in array into corresponding string\n",
    "# values in my_dictionary_2\n",
    "new_array2 = []\n",
    "for i in range(len(array)):\n",
    "    new_array2.append(my_dictionary_2[array[i]])\n",
    "print(new_array2)"
   ]
  },
  {
   "cell_type": "code",
   "execution_count": null,
   "metadata": {},
   "outputs": [],
   "source": [
    "new_array3 = []\n",
    "for item in array:\n",
    "    new_array3.append(my_dictionary_2[item])\n",
    "print(new_array3)"
   ]
  },
  {
   "cell_type": "code",
   "execution_count": null,
   "metadata": {},
   "outputs": [],
   "source": [
    "my_dictionary_2[2]"
   ]
  },
  {
   "cell_type": "code",
   "execution_count": null,
   "metadata": {},
   "outputs": [],
   "source": [
    "my_dictionary_2.keys()"
   ]
  },
  {
   "cell_type": "code",
   "execution_count": null,
   "metadata": {},
   "outputs": [],
   "source": [
    "my_dictionary_2.values()"
   ]
  },
  {
   "cell_type": "markdown",
   "metadata": {},
   "source": [
    "## Numpy Python Library\n",
    "\n",
    "Numpy facilitates manipulating arrays (like in Matlab or in R) \n"
   ]
  },
  {
   "cell_type": "code",
   "execution_count": null,
   "metadata": {},
   "outputs": [],
   "source": [
    "import numpy as np "
   ]
  },
  {
   "cell_type": "code",
   "execution_count": null,
   "metadata": {},
   "outputs": [],
   "source": [
    "num_arr = [1,1,1,1]\n",
    "num_arr2 = [0,1,0,1]"
   ]
  },
  {
   "cell_type": "code",
   "execution_count": null,
   "metadata": {},
   "outputs": [],
   "source": [
    "num_arr + num_arr2"
   ]
  },
  {
   "cell_type": "code",
   "execution_count": null,
   "metadata": {},
   "outputs": [],
   "source": [
    "# Create numpy arrays using array() method from the numpy (\"np\") python library\n",
    "np_num_arr = np.array(num_arr)\n",
    "np_num_arr2 = np.array(num_arr2)"
   ]
  },
  {
   "cell_type": "code",
   "execution_count": null,
   "metadata": {},
   "outputs": [],
   "source": [
    "# Adding pairwise elements in two arrays\n",
    "np_num_arr + np_num_arr2 "
   ]
  },
  {
   "cell_type": "code",
   "execution_count": null,
   "metadata": {},
   "outputs": [],
   "source": [
    "# Multiply pairwise elements \n",
    "np_num_arr * np_num_arr2"
   ]
  },
  {
   "cell_type": "code",
   "execution_count": null,
   "metadata": {},
   "outputs": [],
   "source": [
    "# Divide pairwise elements\n",
    "#np_num_arr / np_num_arr2"
   ]
  },
  {
   "cell_type": "code",
   "execution_count": null,
   "metadata": {},
   "outputs": [],
   "source": [
    "np_num_arr2 / np_num_arr"
   ]
  },
  {
   "cell_type": "code",
   "execution_count": null,
   "metadata": {},
   "outputs": [],
   "source": [
    "type(num_arr)"
   ]
  },
  {
   "cell_type": "code",
   "execution_count": null,
   "metadata": {},
   "outputs": [],
   "source": [
    "type(np_num_arr)"
   ]
  },
  {
   "cell_type": "markdown",
   "metadata": {},
   "source": [
    "## Other np methods\n"
   ]
  },
  {
   "cell_type": "code",
   "execution_count": null,
   "metadata": {},
   "outputs": [],
   "source": [
    "np.add(np_num_arr, np_num_arr2)"
   ]
  },
  {
   "cell_type": "code",
   "execution_count": null,
   "metadata": {},
   "outputs": [],
   "source": [
    "np.subtract(np_num_arr, np_num_arr2)"
   ]
  },
  {
   "cell_type": "code",
   "execution_count": null,
   "metadata": {},
   "outputs": [],
   "source": [
    "# Take e to the power of each value in the array\n",
    "np.exp(np_num_arr)"
   ]
  },
  {
   "cell_type": "code",
   "execution_count": null,
   "metadata": {},
   "outputs": [],
   "source": [
    "# Take cos, sin or log of each value in the array\n",
    "print(np.cos(np_num_arr))\n",
    "print(np.sin(np_num_arr))\n",
    "print(np.log(np_num_arr))"
   ]
  },
  {
   "cell_type": "code",
   "execution_count": null,
   "metadata": {},
   "outputs": [],
   "source": [
    "# Perform dot product of two vectors\n",
    "np_num_arr.dot(np_num_arr2)"
   ]
  },
  {
   "cell_type": "code",
   "execution_count": null,
   "metadata": {},
   "outputs": [],
   "source": [
    "# Perform logical operations\n",
    "np_num_arr == np_num_arr2 "
   ]
  },
  {
   "cell_type": "code",
   "execution_count": null,
   "metadata": {},
   "outputs": [],
   "source": [
    "# Compare \n",
    "np_num_arr < np_num_arr2"
   ]
  },
  {
   "cell_type": "code",
   "execution_count": null,
   "metadata": {},
   "outputs": [],
   "source": [
    "np_num_arr"
   ]
  },
  {
   "cell_type": "code",
   "execution_count": null,
   "metadata": {},
   "outputs": [],
   "source": [
    "np_num_arr2"
   ]
  },
  {
   "cell_type": "code",
   "execution_count": null,
   "metadata": {},
   "outputs": [],
   "source": [
    "# Aggreagate functions\n",
    "# Return array-wise sum\n",
    "np_num_arr.sum()"
   ]
  },
  {
   "cell_type": "code",
   "execution_count": null,
   "metadata": {},
   "outputs": [],
   "source": [
    "# Return array-wise minimum\n",
    "np_num_arr.min()"
   ]
  },
  {
   "cell_type": "code",
   "execution_count": null,
   "metadata": {},
   "outputs": [],
   "source": [
    "# Return array-wise maximum\n",
    "np_num_arr.max()"
   ]
  },
  {
   "cell_type": "markdown",
   "metadata": {},
   "source": [
    "## 2D Arrays using Numpy"
   ]
  },
  {
   "cell_type": "code",
   "execution_count": null,
   "metadata": {},
   "outputs": [],
   "source": [
    "TwoD_num_arr = np.array( [ np_num_arr , np_num_arr2 ] )  "
   ]
  },
  {
   "cell_type": "code",
   "execution_count": null,
   "metadata": {},
   "outputs": [],
   "source": [
    "TwoD_num_arr"
   ]
  },
  {
   "cell_type": "code",
   "execution_count": null,
   "metadata": {},
   "outputs": [],
   "source": [
    "np.array([ [ np_num_arr, np_num_arr2] , [np_num_arr**2 , np_num_arr2**2] ])"
   ]
  },
  {
   "cell_type": "code",
   "execution_count": null,
   "metadata": {},
   "outputs": [],
   "source": [
    "# Initialize numpy 2D array\n",
    "np.zeros((3,4))"
   ]
  },
  {
   "cell_type": "code",
   "execution_count": null,
   "metadata": {},
   "outputs": [],
   "source": [
    "np.ones((3,4))"
   ]
  },
  {
   "cell_type": "code",
   "execution_count": null,
   "metadata": {},
   "outputs": [],
   "source": [
    "np.ones(3)"
   ]
  },
  {
   "cell_type": "markdown",
   "metadata": {},
   "source": [
    "## Pandas Python Library"
   ]
  },
  {
   "cell_type": "code",
   "execution_count": null,
   "metadata": {},
   "outputs": [],
   "source": [
    "import pandas as pd"
   ]
  },
  {
   "cell_type": "code",
   "execution_count": null,
   "metadata": {},
   "outputs": [],
   "source": [
    "# Read a CSV file! \n",
    "### You can also provide full path to file name instead of uploading\n",
    "file_name = \"./gapminder_all.csv\"\n",
    "my_pandas_csv = pd.read_csv(file_name)"
   ]
  },
  {
   "cell_type": "code",
   "execution_count": null,
   "metadata": {},
   "outputs": [],
   "source": [
    "# First  entries (5 is default, can enter more)\n",
    "my_pandas_csv.head(10)"
   ]
  },
  {
   "cell_type": "code",
   "execution_count": null,
   "metadata": {},
   "outputs": [],
   "source": [
    "my_pandas_csv.columns"
   ]
  },
  {
   "cell_type": "code",
   "execution_count": null,
   "metadata": {},
   "outputs": [],
   "source": [
    "# Describe to get basic stats summary of the data\n",
    "my_pandas_csv.describe()"
   ]
  },
  {
   "cell_type": "code",
   "execution_count": null,
   "metadata": {},
   "outputs": [],
   "source": [
    "# Get unique values from a column with unique() method\n",
    "my_pandas_csv[\"continent\"].unique()"
   ]
  },
  {
   "cell_type": "code",
   "execution_count": null,
   "metadata": {},
   "outputs": [],
   "source": [
    "condition = my_pandas_csv[\"continent\"]==\"Africa\"\n",
    "africa_gdp = my_pandas_csv[ condition]"
   ]
  },
  {
   "cell_type": "code",
   "execution_count": null,
   "metadata": {},
   "outputs": [],
   "source": [
    "condition2 = africa_gdp[\"country\"]==\"Algeria\" \n",
    "africa_dgp[condition2]"
   ]
  },
  {
   "cell_type": "code",
   "execution_count": null,
   "metadata": {},
   "outputs": [],
   "source": [
    "sub_pd = my_pandas_csv[ (my_pandas_csv[\"continent\"] == \"Africa\") & (my_pandas_csv[\"country\"] == \"Algeria\") ]"
   ]
  },
  {
   "cell_type": "code",
   "execution_count": null,
   "metadata": {},
   "outputs": [],
   "source": [
    "sub_pd.iloc[:,:]"
   ]
  },
  {
   "cell_type": "code",
   "execution_count": null,
   "metadata": {},
   "outputs": [],
   "source": [
    "variable_x = sub_pd.iloc[:,2:14]"
   ]
  },
  {
   "cell_type": "code",
   "execution_count": null,
   "metadata": {},
   "outputs": [],
   "source": [
    "variable_y = sub_pd.iloc[:,14:26]"
   ]
  },
  {
   "cell_type": "code",
   "execution_count": null,
   "metadata": {},
   "outputs": [],
   "source": [
    "my_pandas_csv.boxplot(column=[\"gdpPercap_1952\",\"gdpPercap_1962\",\"gdpPercap_1972\"]);"
   ]
  },
  {
   "cell_type": "markdown",
   "metadata": {},
   "source": [
    "# Matplotlib plotting"
   ]
  },
  {
   "cell_type": "code",
   "execution_count": null,
   "metadata": {},
   "outputs": [],
   "source": [
    "import matplotlib.pyplot as plt\n",
    "#importing library to python using an alias"
   ]
  },
  {
   "cell_type": "code",
   "execution_count": null,
   "metadata": {},
   "outputs": [],
   "source": [
    "time = [0, 1, 2, 3]\n",
    "position = [0, 50, 100, 150]\n",
    "\n",
    "plt.plot(time, position)\n",
    "plt.xlabel(\"Time (hours)\")\n",
    "plt.ylabel(\"Distance (Km)\")\n",
    "plt.title(\"Distance Plot\")"
   ]
  },
  {
   "cell_type": "code",
   "execution_count": null,
   "metadata": {},
   "outputs": [],
   "source": [
    "import pandas as pd\n",
    "oceania_data = pd.read_csv(\"gapminder_gdp_oceania.csv\", index_col =\"country\")"
   ]
  },
  {
   "cell_type": "code",
   "execution_count": null,
   "metadata": {},
   "outputs": [],
   "source": [
    "oceania_data"
   ]
  },
  {
   "cell_type": "code",
   "execution_count": null,
   "metadata": {
    "scrolled": true
   },
   "outputs": [],
   "source": [
    "### LEt's look at the column names of our dataset:\n",
    "oceania_data.columns"
   ]
  },
  {
   "cell_type": "code",
   "execution_count": null,
   "metadata": {},
   "outputs": [],
   "source": [
    "###Goal: PLot a time series plot for year vs. GDP for both Autralia and N-Z\n",
    "\n",
    "#First thing we need to do is extract a \"year\" dataset\n",
    "\n",
    "\n",
    "\n",
    "years = []\n",
    "for item in oceania_data.columns:\n",
    "    years.append(int( item[len(item)-4:]) )\n",
    "\n",
    "##FYI: Each loop is doing this: \n",
    "#n = len(oceania_data.columns[0])\n",
    "#oceania_data.columns[0][n-4:]"
   ]
  },
  {
   "cell_type": "code",
   "execution_count": null,
   "metadata": {},
   "outputs": [],
   "source": [
    "years"
   ]
  },
  {
   "cell_type": "code",
   "execution_count": null,
   "metadata": {},
   "outputs": [],
   "source": [
    "#### Lets plot GDP for Australia\n",
    "oceania_data.loc['Australia', :]\n",
    "\n"
   ]
  },
  {
   "cell_type": "code",
   "execution_count": null,
   "metadata": {},
   "outputs": [],
   "source": [
    "plt.plot(years, oceania_data.loc['Australia', :], color = \"#1ED0A5\", linestyle = \"--\")\n",
    "plt.xlabel(\"Year\")\n",
    "plt.ylabel(\"GDP\")\n",
    "plt.title(\"GDP per capita for Australia\")"
   ]
  },
  {
   "cell_type": "code",
   "execution_count": null,
   "metadata": {},
   "outputs": [],
   "source": [
    "###That was so much fun! Let's plot Australia's and NZ's gdp vs year on the same graph now\n",
    "\n",
    "# Note that the .T method takes the transpose of the dataframe\n",
    "# (i.e. we switch rows <-> columns)\n",
    "#oceania_data.T\n",
    "\n",
    "oceania_data.T[\"Australia\"]\n"
   ]
  },
  {
   "cell_type": "code",
   "execution_count": null,
   "metadata": {},
   "outputs": [],
   "source": [
    "plt.plot(years, oceania_data.T[\"Australia\"], color = \"#22D3E3\")\n",
    "plt.plot(years, oceania_data.T[\"New Zealand\"], color = \"red\")\n",
    "plt.xlabel(\"Year\")\n",
    "plt.ylabel(\"GDP per capita\")\n",
    "plt.title(\"GDP per capita for Oceania\")\n",
    "plt.legend([\"Australia\",\"New Zealand\"])"
   ]
  },
  {
   "cell_type": "code",
   "execution_count": null,
   "metadata": {},
   "outputs": [],
   "source": [
    "###Let's produce some barplots\n",
    "oceania_data.T.plot(kind=\"bar\")\n"
   ]
  },
  {
   "cell_type": "code",
   "execution_count": null,
   "metadata": {},
   "outputs": [],
   "source": [
    "### Let's do scatterplots\n",
    "Australia_gdp = oceania_data.loc[\"Australia\"]\n",
    "NZ_gdp = oceania_data.loc[\"New Zealand\"]\n",
    "plt.scatter(Australia_gdp, NZ_gdp)\n",
    "\n"
   ]
  },
  {
   "cell_type": "code",
   "execution_count": null,
   "metadata": {},
   "outputs": [],
   "source": [
    "my_data = [[1,2,3,4,5],\n",
    "          [3,5,7,8,9],\n",
    "           [7,6,5,7,8]\n",
    "          ]\n",
    "my_data2 = pd.DataFrame(my_data, columns = [\"Var1\", \"Var2\", \"Var3\", \"Var4\", \"Var5\"])\n",
    "\n",
    "my_data2.corr()\n",
    "\n",
    "\n",
    "import seaborn as sns\n",
    "\n",
    "#changing the colour layout\n",
    "sns.set_palette(\"pastel\")\n",
    "\n",
    "#Plot a heatmap using my correlation values\n",
    "sns.heatmap(my_data2.corr(),alpha = 0.8, annot=True)\n"
   ]
  }
 ],
 "metadata": {
  "kernelspec": {
   "display_name": "Python 3",
   "language": "python",
   "name": "python3"
  },
  "language_info": {
   "codemirror_mode": {
    "name": "ipython",
    "version": 3
   },
   "file_extension": ".py",
   "mimetype": "text/x-python",
   "name": "python",
   "nbconvert_exporter": "python",
   "pygments_lexer": "ipython3",
   "version": "3.5.2"
  }
 },
 "nbformat": 4,
 "nbformat_minor": 2
}
