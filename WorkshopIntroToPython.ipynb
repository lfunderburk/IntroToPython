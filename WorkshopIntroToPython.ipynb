{
 "cells": [
  {
   "cell_type": "markdown",
   "metadata": {},
   "source": [
    "## This is a title\n",
    "### This is a subtitle\n",
    "\n",
    "Author: Laura GF, Peter Tea\n",
    "\n",
    "Date: Oct 19 2019\n",
    "\n",
    "Description: Coding with Python Intro"
   ]
  },
  {
   "cell_type": "code",
   "execution_count": 1,
   "metadata": {},
   "outputs": [
    {
     "name": "stdout",
     "output_type": "stream",
     "text": [
      "My name is Laura\n"
     ]
    }
   ],
   "source": [
    "# Printing to screen\n",
    "print(\"My name is Laura\")"
   ]
  },
  {
   "cell_type": "code",
   "execution_count": 2,
   "metadata": {},
   "outputs": [
    {
     "data": {
      "text/html": [
       "<h1> Heading </h1>\n"
      ],
      "text/plain": [
       "<IPython.core.display.HTML object>"
      ]
     },
     "metadata": {},
     "output_type": "display_data"
    }
   ],
   "source": [
    "%%html \n",
    "<h1> Heading </h1>"
   ]
  },
  {
   "cell_type": "code",
   "execution_count": 3,
   "metadata": {},
   "outputs": [
    {
     "name": "stdout",
     "output_type": "stream",
     "text": [
      "fatal: destination path 'Interactive_Jupyter' already exists and is not an empty directory.\n"
     ]
    }
   ],
   "source": [
    "!git clone https://github.com/lfunderburk/Interactive_Jupyter"
   ]
  },
  {
   "cell_type": "code",
   "execution_count": 4,
   "metadata": {},
   "outputs": [
    {
     "data": {
      "text/plain": [
       "3"
      ]
     },
     "execution_count": 4,
     "metadata": {},
     "output_type": "execute_result"
    }
   ],
   "source": [
    "1 + 2 "
   ]
  },
  {
   "cell_type": "markdown",
   "metadata": {},
   "source": [
    "### Mathematical operations\n",
    "\n",
    "* Addition: use `+`\n",
    "* Subtraction: use `-`\n",
    "* Multiplication: use `*`\n",
    "* Division: use `/`\n",
    "* Power: use `**`"
   ]
  },
  {
   "cell_type": "code",
   "execution_count": 5,
   "metadata": {},
   "outputs": [
    {
     "name": "stdout",
     "output_type": "stream",
     "text": [
      "-1\n"
     ]
    }
   ],
   "source": [
    "print(2-3)"
   ]
  },
  {
   "cell_type": "code",
   "execution_count": 6,
   "metadata": {},
   "outputs": [
    {
     "data": {
      "text/plain": [
       "4"
      ]
     },
     "execution_count": 6,
     "metadata": {},
     "output_type": "execute_result"
    }
   ],
   "source": [
    "2**2"
   ]
  },
  {
   "cell_type": "code",
   "execution_count": 7,
   "metadata": {},
   "outputs": [
    {
     "data": {
      "text/plain": [
       "7"
      ]
     },
     "execution_count": 7,
     "metadata": {},
     "output_type": "execute_result"
    }
   ],
   "source": [
    "1 + 2*3"
   ]
  },
  {
   "cell_type": "markdown",
   "metadata": {},
   "source": [
    "### Creating Variables"
   ]
  },
  {
   "cell_type": "code",
   "execution_count": 8,
   "metadata": {},
   "outputs": [],
   "source": [
    "instructor_age = 27 \n",
    "instructor_first_name = \"Laura\"\n",
    "instructor_email = 'Laura@email.ca'"
   ]
  },
  {
   "cell_type": "code",
   "execution_count": 9,
   "metadata": {},
   "outputs": [
    {
     "name": "stdout",
     "output_type": "stream",
     "text": [
      "23\n"
     ]
    }
   ],
   "source": [
    "print(instructor_age)"
   ]
  },
  {
   "cell_type": "code",
   "execution_count": 10,
   "metadata": {},
   "outputs": [
    {
     "name": "stdout",
     "output_type": "stream",
     "text": [
      "Peter is 23 old.\n"
     ]
    }
   ],
   "source": [
    "print(instructor_first_name + \" is \" + str(instructor_age) + \" old.\")"
   ]
  },
  {
   "cell_type": "code",
   "execution_count": 11,
   "metadata": {},
   "outputs": [
    {
     "name": "stdout",
     "output_type": "stream",
     "text": [
      "23 Peter ptea@sfu.ca\n"
     ]
    }
   ],
   "source": [
    "print(instructor_age, instructor_first_name, instructor_email)"
   ]
  },
  {
   "cell_type": "markdown",
   "metadata": {},
   "source": [
    "### Practice\n",
    "Define two variables called `my_age` and `my_first_name` with your age and first name. Use `print` to print a similar message I did above using your information.\n",
    "\n",
    "Remember that there are two instructors available to help if you need it!"
   ]
  },
  {
   "cell_type": "code",
   "execution_count": 12,
   "metadata": {},
   "outputs": [
    {
     "name": "stdout",
     "output_type": "stream",
     "text": [
      "Laura is 27 years old.\n",
      "Laura 27\n"
     ]
    }
   ],
   "source": [
    "my_age = 27 \n",
    "my_name = \"Laura\" \n",
    "print(my_name + \" is \" + str(my_age) + \" years old.\")\n",
    "print(my_name, my_age)"
   ]
  },
  {
   "cell_type": "markdown",
   "metadata": {},
   "source": [
    "## Variable Types"
   ]
  },
  {
   "cell_type": "code",
   "execution_count": 13,
   "metadata": {},
   "outputs": [
    {
     "data": {
      "text/plain": [
       "int"
      ]
     },
     "execution_count": 13,
     "metadata": {},
     "output_type": "execute_result"
    }
   ],
   "source": [
    "type(instructor_age)"
   ]
  },
  {
   "cell_type": "code",
   "execution_count": 14,
   "metadata": {},
   "outputs": [
    {
     "data": {
      "text/plain": [
       "str"
      ]
     },
     "execution_count": 14,
     "metadata": {},
     "output_type": "execute_result"
    }
   ],
   "source": [
    "type(instructor_email)"
   ]
  },
  {
   "cell_type": "code",
   "execution_count": 15,
   "metadata": {},
   "outputs": [
    {
     "data": {
      "text/plain": [
       "builtin_function_or_method"
      ]
     },
     "execution_count": 15,
     "metadata": {},
     "output_type": "execute_result"
    }
   ],
   "source": [
    "type(print)"
   ]
  },
  {
   "cell_type": "code",
   "execution_count": 16,
   "metadata": {},
   "outputs": [],
   "source": [
    "# This is bad practice... do not do it!\n",
    "# print = 123"
   ]
  },
  {
   "cell_type": "code",
   "execution_count": 17,
   "metadata": {},
   "outputs": [
    {
     "name": "stdout",
     "output_type": "stream",
     "text": [
      "Hello\n"
     ]
    }
   ],
   "source": [
    "print(\"Hello\")"
   ]
  },
  {
   "cell_type": "code",
   "execution_count": 18,
   "metadata": {},
   "outputs": [
    {
     "data": {
      "text/plain": [
       "2.2"
      ]
     },
     "execution_count": 18,
     "metadata": {},
     "output_type": "execute_result"
    }
   ],
   "source": [
    "1 + 1.2"
   ]
  },
  {
   "cell_type": "code",
   "execution_count": 19,
   "metadata": {},
   "outputs": [
    {
     "data": {
      "text/plain": [
       "'1a'"
      ]
     },
     "execution_count": 19,
     "metadata": {},
     "output_type": "execute_result"
    }
   ],
   "source": [
    "str(1) + \"a\""
   ]
  },
  {
   "cell_type": "markdown",
   "metadata": {},
   "source": [
    "## Arrays"
   ]
  },
  {
   "cell_type": "code",
   "execution_count": 20,
   "metadata": {},
   "outputs": [],
   "source": [
    "my_arr = [1,2,\"pe\", \"c\",[1,2,3]]"
   ]
  },
  {
   "cell_type": "code",
   "execution_count": 21,
   "metadata": {},
   "outputs": [
    {
     "data": {
      "text/plain": [
       "[0, 1, 2, 3, 4]"
      ]
     },
     "execution_count": 21,
     "metadata": {},
     "output_type": "execute_result"
    }
   ],
   "source": [
    "# Slicing\n",
    "# Indeces start from 0 and go all the to n-1, where n is the size of the array\n",
    "length_of_arr = len(my_arr)\n",
    "list(range(5))"
   ]
  },
  {
   "cell_type": "code",
   "execution_count": 22,
   "metadata": {},
   "outputs": [
    {
     "data": {
      "text/plain": [
       "1"
      ]
     },
     "execution_count": 22,
     "metadata": {},
     "output_type": "execute_result"
    }
   ],
   "source": [
    "my_arr[0]"
   ]
  },
  {
   "cell_type": "code",
   "execution_count": 23,
   "metadata": {},
   "outputs": [
    {
     "data": {
      "text/plain": [
       "3"
      ]
     },
     "execution_count": 23,
     "metadata": {},
     "output_type": "execute_result"
    }
   ],
   "source": [
    "my_arr[0] + my_arr[1]"
   ]
  },
  {
   "cell_type": "code",
   "execution_count": 24,
   "metadata": {},
   "outputs": [
    {
     "data": {
      "text/plain": [
       "3"
      ]
     },
     "execution_count": 24,
     "metadata": {},
     "output_type": "execute_result"
    }
   ],
   "source": [
    "my_arr[4][-1]"
   ]
  },
  {
   "cell_type": "code",
   "execution_count": 25,
   "metadata": {},
   "outputs": [
    {
     "data": {
      "text/plain": [
       "[1, 2, 'pe']"
      ]
     },
     "execution_count": 25,
     "metadata": {},
     "output_type": "execute_result"
    }
   ],
   "source": [
    "# 0 1 2 3 \n",
    "my_arr[0:3]"
   ]
  },
  {
   "cell_type": "code",
   "execution_count": 26,
   "metadata": {},
   "outputs": [
    {
     "data": {
      "text/plain": [
       "[1, 2, 3, 4]"
      ]
     },
     "execution_count": 26,
     "metadata": {},
     "output_type": "execute_result"
    }
   ],
   "source": [
    "list(range(1,5))"
   ]
  },
  {
   "cell_type": "markdown",
   "metadata": {},
   "source": [
    "## Manipulating Strings"
   ]
  },
  {
   "cell_type": "code",
   "execution_count": 27,
   "metadata": {},
   "outputs": [
    {
     "data": {
      "text/plain": [
       "'Peter'"
      ]
     },
     "execution_count": 27,
     "metadata": {},
     "output_type": "execute_result"
    }
   ],
   "source": [
    "instructor_first_name"
   ]
  },
  {
   "cell_type": "code",
   "execution_count": 28,
   "metadata": {},
   "outputs": [
    {
     "data": {
      "text/plain": [
       "'Pe'"
      ]
     },
     "execution_count": 28,
     "metadata": {},
     "output_type": "execute_result"
    }
   ],
   "source": [
    "instructor_first_name[0:2]"
   ]
  },
  {
   "cell_type": "code",
   "execution_count": 29,
   "metadata": {},
   "outputs": [
    {
     "data": {
      "text/plain": [
       "'P'"
      ]
     },
     "execution_count": 29,
     "metadata": {},
     "output_type": "execute_result"
    }
   ],
   "source": [
    "instructor_first_name[0]"
   ]
  },
  {
   "cell_type": "code",
   "execution_count": 30,
   "metadata": {},
   "outputs": [
    {
     "data": {
      "text/plain": [
       "['P', 'e', 't', 'e', 'r']"
      ]
     },
     "execution_count": 30,
     "metadata": {},
     "output_type": "execute_result"
    }
   ],
   "source": [
    "list(instructor_first_name)"
   ]
  },
  {
   "cell_type": "code",
   "execution_count": 31,
   "metadata": {},
   "outputs": [
    {
     "data": {
      "text/plain": [
       "'reteP'"
      ]
     },
     "execution_count": 31,
     "metadata": {},
     "output_type": "execute_result"
    }
   ],
   "source": [
    "instructor_first_name[::-1]"
   ]
  },
  {
   "cell_type": "markdown",
   "metadata": {},
   "source": [
    "## Methods"
   ]
  },
  {
   "cell_type": "code",
   "execution_count": 32,
   "metadata": {},
   "outputs": [
    {
     "data": {
      "text/plain": [
       "'PETER'"
      ]
     },
     "execution_count": 32,
     "metadata": {},
     "output_type": "execute_result"
    }
   ],
   "source": [
    "# Turn all letters into upper case\n",
    "instructor_first_name.upper()"
   ]
  },
  {
   "cell_type": "code",
   "execution_count": 33,
   "metadata": {},
   "outputs": [
    {
     "data": {
      "text/plain": [
       "'peter'"
      ]
     },
     "execution_count": 33,
     "metadata": {},
     "output_type": "execute_result"
    }
   ],
   "source": [
    "instructor_first_name.lower()"
   ]
  },
  {
   "cell_type": "code",
   "execution_count": 34,
   "metadata": {},
   "outputs": [
    {
     "data": {
      "text/plain": [
       "'Laura'"
      ]
     },
     "execution_count": 34,
     "metadata": {},
     "output_type": "execute_result"
    }
   ],
   "source": [
    "my_name"
   ]
  },
  {
   "cell_type": "code",
   "execution_count": 35,
   "metadata": {},
   "outputs": [],
   "source": [
    "my_new_name = my_name.replace(\"ra\",\"ren\")"
   ]
  },
  {
   "cell_type": "code",
   "execution_count": 36,
   "metadata": {},
   "outputs": [
    {
     "data": {
      "text/plain": [
       "'Laura'"
      ]
     },
     "execution_count": 36,
     "metadata": {},
     "output_type": "execute_result"
    }
   ],
   "source": [
    "my_name"
   ]
  },
  {
   "cell_type": "code",
   "execution_count": 37,
   "metadata": {},
   "outputs": [],
   "source": [
    "entry_one = \"String + \\n\"\n",
    "entry_two = \"String + \\t\""
   ]
  },
  {
   "cell_type": "code",
   "execution_count": 38,
   "metadata": {},
   "outputs": [
    {
     "data": {
      "text/plain": [
       "'String + \\n'"
      ]
     },
     "execution_count": 38,
     "metadata": {},
     "output_type": "execute_result"
    }
   ],
   "source": [
    "entry_two.replace(\"\\t\", \"\\n\")"
   ]
  },
  {
   "cell_type": "code",
   "execution_count": 39,
   "metadata": {},
   "outputs": [],
   "source": [
    "h = 3\n",
    "#h.replace(3,4)"
   ]
  },
  {
   "cell_type": "code",
   "execution_count": 40,
   "metadata": {},
   "outputs": [
    {
     "data": {
      "text/plain": [
       "'Lauren'"
      ]
     },
     "execution_count": 40,
     "metadata": {},
     "output_type": "execute_result"
    }
   ],
   "source": [
    "my_new_name"
   ]
  },
  {
   "cell_type": "code",
   "execution_count": 41,
   "metadata": {
    "scrolled": true
   },
   "outputs": [
    {
     "data": {
      "text/plain": [
       "['__add__',\n",
       " '__class__',\n",
       " '__contains__',\n",
       " '__delattr__',\n",
       " '__dir__',\n",
       " '__doc__',\n",
       " '__eq__',\n",
       " '__format__',\n",
       " '__ge__',\n",
       " '__getattribute__',\n",
       " '__getitem__',\n",
       " '__getnewargs__',\n",
       " '__gt__',\n",
       " '__hash__',\n",
       " '__init__',\n",
       " '__init_subclass__',\n",
       " '__iter__',\n",
       " '__le__',\n",
       " '__len__',\n",
       " '__lt__',\n",
       " '__mod__',\n",
       " '__mul__',\n",
       " '__ne__',\n",
       " '__new__',\n",
       " '__reduce__',\n",
       " '__reduce_ex__',\n",
       " '__repr__',\n",
       " '__rmod__',\n",
       " '__rmul__',\n",
       " '__setattr__',\n",
       " '__sizeof__',\n",
       " '__str__',\n",
       " '__subclasshook__',\n",
       " 'capitalize',\n",
       " 'casefold',\n",
       " 'center',\n",
       " 'count',\n",
       " 'encode',\n",
       " 'endswith',\n",
       " 'expandtabs',\n",
       " 'find',\n",
       " 'format',\n",
       " 'format_map',\n",
       " 'index',\n",
       " 'isalnum',\n",
       " 'isalpha',\n",
       " 'isascii',\n",
       " 'isdecimal',\n",
       " 'isdigit',\n",
       " 'isidentifier',\n",
       " 'islower',\n",
       " 'isnumeric',\n",
       " 'isprintable',\n",
       " 'isspace',\n",
       " 'istitle',\n",
       " 'isupper',\n",
       " 'join',\n",
       " 'ljust',\n",
       " 'lower',\n",
       " 'lstrip',\n",
       " 'maketrans',\n",
       " 'partition',\n",
       " 'replace',\n",
       " 'rfind',\n",
       " 'rindex',\n",
       " 'rjust',\n",
       " 'rpartition',\n",
       " 'rsplit',\n",
       " 'rstrip',\n",
       " 'split',\n",
       " 'splitlines',\n",
       " 'startswith',\n",
       " 'strip',\n",
       " 'swapcase',\n",
       " 'title',\n",
       " 'translate',\n",
       " 'upper',\n",
       " 'zfill']"
      ]
     },
     "execution_count": 41,
     "metadata": {},
     "output_type": "execute_result"
    }
   ],
   "source": [
    "dir(my_name)"
   ]
  },
  {
   "cell_type": "code",
   "execution_count": 42,
   "metadata": {},
   "outputs": [],
   "source": [
    "?my_name.replace"
   ]
  },
  {
   "cell_type": "markdown",
   "metadata": {},
   "source": [
    "## List methods"
   ]
  },
  {
   "cell_type": "code",
   "execution_count": 43,
   "metadata": {},
   "outputs": [],
   "source": [
    "measurements= [0.273, 0.275, 0.277, 0.275]"
   ]
  },
  {
   "cell_type": "code",
   "execution_count": 44,
   "metadata": {},
   "outputs": [
    {
     "data": {
      "text/plain": [
       "4"
      ]
     },
     "execution_count": 44,
     "metadata": {},
     "output_type": "execute_result"
    }
   ],
   "source": [
    "len(measurements)"
   ]
  },
  {
   "cell_type": "code",
   "execution_count": 45,
   "metadata": {},
   "outputs": [
    {
     "data": {
      "text/plain": [
       "[0.275, 0.277]"
      ]
     },
     "execution_count": 45,
     "metadata": {},
     "output_type": "execute_result"
    }
   ],
   "source": [
    "measurements[1:3]"
   ]
  },
  {
   "cell_type": "code",
   "execution_count": 46,
   "metadata": {},
   "outputs": [],
   "source": [
    "measurements.append(0.37)"
   ]
  },
  {
   "cell_type": "code",
   "execution_count": 47,
   "metadata": {},
   "outputs": [
    {
     "data": {
      "text/plain": [
       "[0.273, 0.275, 0.277, 0.275, 0.37]"
      ]
     },
     "execution_count": 47,
     "metadata": {},
     "output_type": "execute_result"
    }
   ],
   "source": [
    "measurements"
   ]
  },
  {
   "cell_type": "code",
   "execution_count": 48,
   "metadata": {},
   "outputs": [],
   "source": [
    "measurements.insert(2,1)"
   ]
  },
  {
   "cell_type": "code",
   "execution_count": 49,
   "metadata": {},
   "outputs": [
    {
     "data": {
      "text/plain": [
       "[0.273, 0.275, 1, 0.277, 0.275, 0.37]"
      ]
     },
     "execution_count": 49,
     "metadata": {},
     "output_type": "execute_result"
    }
   ],
   "source": [
    "measurements"
   ]
  },
  {
   "cell_type": "code",
   "execution_count": 50,
   "metadata": {},
   "outputs": [],
   "source": [
    "measurements.remove(0.37)"
   ]
  },
  {
   "cell_type": "code",
   "execution_count": 51,
   "metadata": {},
   "outputs": [
    {
     "data": {
      "text/plain": [
       "[0.273, 0.275, 1, 0.277, 0.275]"
      ]
     },
     "execution_count": 51,
     "metadata": {},
     "output_type": "execute_result"
    }
   ],
   "source": [
    "measurements"
   ]
  },
  {
   "cell_type": "code",
   "execution_count": 52,
   "metadata": {},
   "outputs": [
    {
     "data": {
      "text/plain": [
       "1"
      ]
     },
     "execution_count": 52,
     "metadata": {},
     "output_type": "execute_result"
    }
   ],
   "source": [
    "measurements.pop(2)"
   ]
  },
  {
   "cell_type": "code",
   "execution_count": 53,
   "metadata": {},
   "outputs": [
    {
     "data": {
      "text/plain": [
       "[0.273, 0.275, 0.277, 0.275]"
      ]
     },
     "execution_count": 53,
     "metadata": {},
     "output_type": "execute_result"
    }
   ],
   "source": [
    "measurements"
   ]
  },
  {
   "cell_type": "markdown",
   "metadata": {},
   "source": [
    "### Practice\n",
    "\n",
    "Create a list containing the names of at least 3 people you know.\n",
    "* Using that list, add a fourth person to the end.\n",
    "* Using that list, capitalize the name of the second person (you may need to look back at the methods we used on strings)\n",
    "* Use the `index` method for lists (look at help) to find the position of one of the names. Use `del` to then remove that person."
   ]
  },
  {
   "cell_type": "code",
   "execution_count": 54,
   "metadata": {},
   "outputs": [],
   "source": [
    "my_list= [\"Pete\",\"Joe\",\"Nina\"]\n",
    "#my_list[1] = my_list[1].upper()"
   ]
  },
  {
   "cell_type": "code",
   "execution_count": 55,
   "metadata": {},
   "outputs": [
    {
     "data": {
      "text/plain": [
       "['Pete', 'Joe', 'Nina']"
      ]
     },
     "execution_count": 55,
     "metadata": {},
     "output_type": "execute_result"
    }
   ],
   "source": [
    "my_list"
   ]
  },
  {
   "cell_type": "code",
   "execution_count": 56,
   "metadata": {},
   "outputs": [
    {
     "name": "stdout",
     "output_type": "stream",
     "text": [
      "['Pete', 'Joe', 'Nina']\n",
      "['Pete', 'JOE', 'Nina']\n",
      "Help on built-in function index:\n",
      "\n",
      "index(value, start=0, stop=9223372036854775807, /) method of builtins.list instance\n",
      "    Return first index of value.\n",
      "    \n",
      "    Raises ValueError if the value is not present.\n",
      "\n",
      "['Pete', 'Nina']\n"
     ]
    }
   ],
   "source": [
    "# Complete solution\n",
    "my_list= [\"Pete\",\"Joe\",\"Nina\"]\n",
    "print(my_list)\n",
    "my_list[1] = my_list[1].upper()\n",
    "print(my_list)\n",
    "help(my_list.index)\n",
    "del my_list[1]\n",
    "print(my_list)"
   ]
  },
  {
   "cell_type": "code",
   "execution_count": 57,
   "metadata": {},
   "outputs": [
    {
     "name": "stdout",
     "output_type": "stream",
     "text": [
      "Help on built-in function index:\n",
      "\n",
      "index(value, start=0, stop=9223372036854775807, /) method of builtins.list instance\n",
      "    Return first index of value.\n",
      "    \n",
      "    Raises ValueError if the value is not present.\n",
      "\n"
     ]
    }
   ],
   "source": [
    "help(my_list.index)"
   ]
  },
  {
   "cell_type": "code",
   "execution_count": 58,
   "metadata": {},
   "outputs": [],
   "source": [
    "del my_list[1]"
   ]
  },
  {
   "cell_type": "code",
   "execution_count": 59,
   "metadata": {},
   "outputs": [
    {
     "data": {
      "text/plain": [
       "['Pete']"
      ]
     },
     "execution_count": 59,
     "metadata": {},
     "output_type": "execute_result"
    }
   ],
   "source": [
    "my_list"
   ]
  },
  {
   "cell_type": "markdown",
   "metadata": {},
   "source": [
    "##### Lunch break ..."
   ]
  },
  {
   "cell_type": "markdown",
   "metadata": {},
   "source": [
    "## For Loops"
   ]
  },
  {
   "cell_type": "code",
   "execution_count": 60,
   "metadata": {},
   "outputs": [],
   "source": [
    "### Make objects like lists in Python\n",
    "friends = [\"Peter\", \"Laura\", \"Louis\"]"
   ]
  },
  {
   "cell_type": "code",
   "execution_count": 61,
   "metadata": {},
   "outputs": [
    {
     "data": {
      "text/plain": [
       "['Peter', 'Laura', 'Louis']"
      ]
     },
     "execution_count": 61,
     "metadata": {},
     "output_type": "execute_result"
    }
   ],
   "source": [
    "friends"
   ]
  },
  {
   "cell_type": "code",
   "execution_count": 63,
   "metadata": {},
   "outputs": [
    {
     "ename": "AttributeError",
     "evalue": "'list' object has no attribute 'upper'",
     "output_type": "error",
     "traceback": [
      "\u001b[0;31m---------------------------------------------------------------------------\u001b[0m",
      "\u001b[0;31mAttributeError\u001b[0m                            Traceback (most recent call last)",
      "\u001b[0;32m<ipython-input-63-0bd00fe51355>\u001b[0m in \u001b[0;36m<module>\u001b[0;34m\u001b[0m\n\u001b[1;32m      1\u001b[0m \u001b[0;31m##We also looked at methods applied to python objects\u001b[0m\u001b[0;34m\u001b[0m\u001b[0;34m\u001b[0m\u001b[0;34m\u001b[0m\u001b[0m\n\u001b[1;32m      2\u001b[0m \u001b[0;34m\"Peter\"\u001b[0m\u001b[0;34m.\u001b[0m\u001b[0mupper\u001b[0m\u001b[0;34m(\u001b[0m\u001b[0;34m)\u001b[0m\u001b[0;34m\u001b[0m\u001b[0;34m\u001b[0m\u001b[0m\n\u001b[0;32m----> 3\u001b[0;31m \u001b[0mfriends\u001b[0m\u001b[0;34m.\u001b[0m\u001b[0mupper\u001b[0m\u001b[0;34m(\u001b[0m\u001b[0;34m)\u001b[0m\u001b[0;34m\u001b[0m\u001b[0;34m\u001b[0m\u001b[0m\n\u001b[0m",
      "\u001b[0;31mAttributeError\u001b[0m: 'list' object has no attribute 'upper'"
     ]
    }
   ],
   "source": [
    "##We also looked at methods applied to python objects\n",
    "\"Peter\".upper()\n",
    "friends.upper()"
   ]
  },
  {
   "cell_type": "code",
   "execution_count": 65,
   "metadata": {},
   "outputs": [
    {
     "data": {
      "text/plain": [
       "'PETER'"
      ]
     },
     "execution_count": 65,
     "metadata": {},
     "output_type": "execute_result"
    }
   ],
   "source": [
    "friends[0].upper()"
   ]
  },
  {
   "cell_type": "code",
   "execution_count": 69,
   "metadata": {},
   "outputs": [
    {
     "name": "stdout",
     "output_type": "stream",
     "text": [
      "PETER\n",
      "LAURA\n",
      "LOUIS\n"
     ]
    }
   ],
   "source": [
    "# How do I apply the upper() method to all elements of my list?\n",
    "# The answer is: FOR LOOPs\n",
    "for item in friends:\n",
    "    print(item.upper())\n",
    "\n",
    "#How do I make a new list with capitalized letters?????\n",
    "new_capital_list = []\n",
    "\n",
    "for item in friends:\n",
    "    new_capital_list.append( item.upper() )\n",
    "\n"
   ]
  },
  {
   "cell_type": "code",
   "execution_count": 70,
   "metadata": {},
   "outputs": [
    {
     "data": {
      "text/plain": [
       "['PETER', 'LAURA', 'LOUIS']"
      ]
     },
     "execution_count": 70,
     "metadata": {},
     "output_type": "execute_result"
    }
   ],
   "source": [
    "new_capital_list"
   ]
  },
  {
   "cell_type": "code",
   "execution_count": null,
   "metadata": {},
   "outputs": [],
   "source": [
    "### Some helpful notes no For Loops:\n",
    "#1. We start a for loop with the keyword \"for\"\n",
    "#2. We define a temporary variable (in this case item is my temporary variable). \n",
    "#   item will be equal to each element of my list I'm iterating over \n",
    "#3. We use th keyword \"in\" to indicate which list we wawnt to iterate over\n",
    "#(in this case) it's the friends list\n",
    "#4. We end the line with a colon, to tell Python when to start our code"
   ]
  },
  {
   "cell_type": "code",
   "execution_count": 71,
   "metadata": {},
   "outputs": [
    {
     "name": "stdout",
     "output_type": "stream",
     "text": [
      "Hello PETER\n",
      "Goodbye PETER\n",
      "\n",
      "Hello LAURA\n",
      "Goodbye LAURA\n",
      "\n",
      "Hello LOUIS\n",
      "Goodbye LOUIS\n",
      "\n",
      "For loop is finished\n"
     ]
    }
   ],
   "source": [
    "for item in friends:\n",
    "    friend_upper_case = item.upper()\n",
    "    print(\"Hello\", friend_upper_case)\n",
    "    print(\"Goodbye\", friend_upper_case)\n",
    "    print() #This prints a blank space\n",
    "    \n",
    "print(\"For loop is finished\")"
   ]
  },
  {
   "cell_type": "code",
   "execution_count": 72,
   "metadata": {},
   "outputs": [
    {
     "data": {
      "text/plain": [
       "'LOUIS'"
      ]
     },
     "execution_count": 72,
     "metadata": {},
     "output_type": "execute_result"
    }
   ],
   "source": [
    "friend_upper_case"
   ]
  },
  {
   "cell_type": "code",
   "execution_count": 75,
   "metadata": {},
   "outputs": [
    {
     "name": "stdout",
     "output_type": "stream",
     "text": [
      "5050\n"
     ]
    }
   ],
   "source": [
    "#Now lets work with lists of numbers:\n",
    "list(range(0,5))\n",
    "\n",
    "\n",
    "###Use a for loop to calculate the sum of 1,2,3,...,100\n",
    "\n",
    "my_sum = 0\n",
    "for number in range(0,101):\n",
    "    my_sum = my_sum + number\n",
    "    \n",
    "print(my_sum)\n",
    "\n"
   ]
  },
  {
   "cell_type": "code",
   "execution_count": 82,
   "metadata": {},
   "outputs": [
    {
     "name": "stdout",
     "output_type": "stream",
     "text": [
      "0\n",
      "1\n",
      "3\n",
      "6\n"
     ]
    }
   ],
   "source": [
    "my_sum = 0\n",
    "for number in range(0,4):\n",
    "    my_sum = my_sum + number\n",
    "    print(my_sum)"
   ]
  },
  {
   "cell_type": "code",
   "execution_count": 87,
   "metadata": {},
   "outputs": [
    {
     "name": "stdout",
     "output_type": "stream",
     "text": [
      "[1.2, 4.6, 7.7]\n"
     ]
    }
   ],
   "source": [
    "####\n",
    "#round(4.56, 0)\n",
    "\n",
    "my_numbers = [1.23, 4.56, 7.68]\n",
    "\n",
    "# Write a for loop that rounds reach number to 1 decimal place\n",
    "# (using the round function)\n",
    "\n",
    "#Note: round(my_numbers) will give error!!!\n",
    "\n",
    "my_rounded_numbers = []\n",
    "for item in my_numbers:\n",
    "    my_rounded_numbers.append(round(item, 1))\n",
    "\n",
    "print(my_rounded_numbers)\n"
   ]
  },
  {
   "cell_type": "code",
   "execution_count": 90,
   "metadata": {},
   "outputs": [
    {
     "name": "stdout",
     "output_type": "stream",
     "text": [
      "[1.2, 4.6, 7.7]\n"
     ]
    }
   ],
   "source": [
    "### One last on For loops:\n",
    "# List comprehension\n",
    "#Does the exact same thing as the previous for loop:\n",
    "rounded_numbers2 = [round(item, 1) for item in my_numbers]\n",
    "\n",
    "print(rounded_numbers2)\n",
    "\n"
   ]
  },
  {
   "cell_type": "code",
   "execution_count": 92,
   "metadata": {},
   "outputs": [],
   "source": [
    "# Lets work with functions now\n",
    "my_numbers2 = [1.567, 4.222, 3.112]\n",
    "\n",
    "# Let's write a function that returns the rounded numbers of any object\n",
    "\n",
    "def rounded_list(my_list):\n",
    "    my_rounded_numbers = []\n",
    "    for item in my_list:\n",
    "        my_rounded_numbers.append(round(item, 1))\n",
    "    \n",
    "    return my_rounded_numbers\n",
    "\n",
    "\n"
   ]
  },
  {
   "cell_type": "code",
   "execution_count": 94,
   "metadata": {},
   "outputs": [
    {
     "data": {
      "text/plain": [
       "[1.6, 4.2, 3.1]"
      ]
     },
     "execution_count": 94,
     "metadata": {},
     "output_type": "execute_result"
    }
   ],
   "source": [
    "rounded_list(my_numbers)\n",
    "rounded_list(my_numbers2)"
   ]
  },
  {
   "cell_type": "code",
   "execution_count": 100,
   "metadata": {},
   "outputs": [
    {
     "data": {
      "text/plain": [
       "6"
      ]
     },
     "execution_count": 100,
     "metadata": {},
     "output_type": "execute_result"
    }
   ],
   "source": [
    "### Recall previously, we used a for loop to obtain the sum of 0,1,2,3,...100.\n",
    "# LEt's now try to write a function that calculate the sum of n integers.\n",
    "my_sum = 0\n",
    "for number in range(0,101):\n",
    "    my_sum = my_sum + number\n",
    "    \n",
    "#print(my_sum)\n",
    "\n",
    "\n",
    "#Exercise: Write a function that calculates the sum of n integers. set n as a paramter\n",
    "# in your function\n",
    "\n",
    "def sum_n(n):\n",
    "    ''' calculate sum of n integers\n",
    "    '''\n",
    "    my_sum = 0\n",
    "    for number in range(0,n+1):\n",
    "        my_sum = my_sum + number\n",
    "    \n",
    "    return my_sum\n",
    "    \n",
    "    \n",
    "sum_n(3)\n",
    "    \n",
    "#Test: n = 2 should return 3\n",
    "#Test: n = 3 should return 6\n",
    "#Test< n = 10 should be ???\n"
   ]
  },
  {
   "cell_type": "markdown",
   "metadata": {},
   "source": [
    "## If- (and if-else) statements"
   ]
  },
  {
   "cell_type": "code",
   "execution_count": 108,
   "metadata": {},
   "outputs": [
    {
     "name": "stdout",
     "output_type": "stream",
     "text": [
      "1.0\n",
      "Condition True\n",
      "3.0\n",
      "Condition True\n",
      "Condition False\n",
      "5.8\n",
      "Condition False\n",
      "9.0\n",
      "Condition False\n",
      "13.7\n"
     ]
    }
   ],
   "source": [
    "### If else statements allow us to choose when we apply a transformation on objects\n",
    "# within a list.\n",
    "\n",
    "my_numbers2 = [1.11, 3.2, 5.78, 9.0, 13.7]\n",
    "\n",
    "#Suppose I want rounded numbers ONLY for numbers greater than 10\n",
    "\n",
    "for number in my_numbers2:\n",
    "    if number > 0 and number < 4:\n",
    "        print(round(number,0))\n",
    "        print(\"Condition True\")\n",
    "    else:\n",
    "        print(\"Condition False\")\n",
    "        print(round(number,1))\n",
    "        \n",
    "### Let's write a function that returns a list of numbers, where the nuumbers greater \n",
    "#than 5 is rounded to 1 decimal place.\n",
    "\n",
    "my_numbers3 = [1.222, 2.345, 3.444, 5.021, 14.67]\n",
    "\n",
    "\n",
    "def rounding_greater5(my_list):\n",
    "    my_result = []\n",
    "    \n",
    "    for number in my_list:\n",
    "        \n",
    "        if number > 5:\n",
    "            my_result.append(round(number,1))\n",
    "        else:\n",
    "            my_result.append(number)\n",
    "            \n",
    "    return my_result"
   ]
  },
  {
   "cell_type": "code",
   "execution_count": 1,
   "metadata": {
    "scrolled": true
   },
   "outputs": [
    {
     "ename": "NameError",
     "evalue": "name 'rounding_greater5' is not defined",
     "output_type": "error",
     "traceback": [
      "\u001b[0;31m---------------------------------------------------------------------------\u001b[0m",
      "\u001b[0;31mNameError\u001b[0m                                 Traceback (most recent call last)",
      "\u001b[0;32m<ipython-input-1-e08d8f7d010b>\u001b[0m in \u001b[0;36m<module>\u001b[0;34m\u001b[0m\n\u001b[0;32m----> 1\u001b[0;31m \u001b[0mrounding_greater5\u001b[0m\u001b[0;34m(\u001b[0m\u001b[0mmy_numbers3\u001b[0m\u001b[0;34m)\u001b[0m\u001b[0;34m\u001b[0m\u001b[0;34m\u001b[0m\u001b[0m\n\u001b[0m",
      "\u001b[0;31mNameError\u001b[0m: name 'rounding_greater5' is not defined"
     ]
    }
   ],
   "source": [
    "rounding_greater5(my_numbers3)"
   ]
  },
  {
   "cell_type": "markdown",
   "metadata": {},
   "source": [
    "## Review"
   ]
  },
  {
   "cell_type": "code",
   "execution_count": 22,
   "metadata": {},
   "outputs": [],
   "source": [
    "# Arrays and data structures\n",
    "my_dict = {\"keys\":[\"value1\",\"value2\",\"value3\"], \"keys2\":[str(1),str(2),str(3)]}\n",
    "my_arr = [1,2,3,4,5,\"a\",\"abc\",[1,2,3], my_dict]"
   ]
  },
  {
   "cell_type": "code",
   "execution_count": 18,
   "metadata": {},
   "outputs": [
    {
     "data": {
      "text/plain": [
       "1"
      ]
     },
     "execution_count": 18,
     "metadata": {},
     "output_type": "execute_result"
    }
   ],
   "source": [
    "my_arr[0]"
   ]
  },
  {
   "cell_type": "code",
   "execution_count": 24,
   "metadata": {
    "scrolled": true
   },
   "outputs": [
    {
     "name": "stdout",
     "output_type": "stream",
     "text": [
      "1\n",
      "2\n",
      "3\n",
      "4\n",
      "5\n",
      "a\n",
      "abc\n",
      "[1, 2, 3]\n",
      "{'keys': ['value1', 'value2', 'value3'], 'keys2': ['1', '2', '3']}\n"
     ]
    }
   ],
   "source": [
    "# We can iterate over the elements of an array by using a for loop\n",
    "length = len(my_arr)\n",
    "for i in range(length):\n",
    "    print(my_arr[i])"
   ]
  },
  {
   "cell_type": "code",
   "execution_count": 25,
   "metadata": {},
   "outputs": [
    {
     "data": {
      "text/plain": [
       "['value1', 'value2', 'value3', '1', '2', '3']"
      ]
     },
     "execution_count": 25,
     "metadata": {},
     "output_type": "execute_result"
    }
   ],
   "source": [
    "my_dict[\"keys\"] + my_dict['keys2']"
   ]
  },
  {
   "cell_type": "code",
   "execution_count": 27,
   "metadata": {},
   "outputs": [
    {
     "name": "stdout",
     "output_type": "stream",
     "text": [
      "value11\n",
      "value22\n",
      "value33\n"
     ]
    }
   ],
   "source": [
    "# Iterating over elements in both lists to create a list with four elements\n",
    "# whose elements are the concatenation of list 1 to list 2\n",
    "new_list = []\n",
    "for i in range(3):\n",
    "    print( my_dict[\"keys\"][i]  + my_dict[\"keys2\"][i])\n",
    "    new_list.append(my_dict[\"keys\"][i]  + my_dict[\"keys2\"][i])"
   ]
  },
  {
   "cell_type": "code",
   "execution_count": 28,
   "metadata": {},
   "outputs": [
    {
     "name": "stdout",
     "output_type": "stream",
     "text": [
      "['b', 'c', 'd', 'b', 'b', 'd', 'c', 'c']\n"
     ]
    }
   ],
   "source": [
    "# Practice with dictionaries\n",
    "my_dictionary_2 = { 0: \"a\", 1 : \"b\", 2 : \"c\", 3 : \"d\" }\n",
    "array = [1, 2, 3, 1, 1, 3, 2, 2]\n",
    "# Create new array that transforms integers in array into corresponding string\n",
    "# values in my_dictionary_2\n",
    "new_array2 = []\n",
    "for i in range(len(array)):\n",
    "    new_array2.append(my_dictionary_2[array[i]])\n",
    "print(new_array2)"
   ]
  },
  {
   "cell_type": "code",
   "execution_count": 29,
   "metadata": {},
   "outputs": [
    {
     "name": "stdout",
     "output_type": "stream",
     "text": [
      "['b', 'c', 'd', 'b', 'b', 'd', 'c', 'c']\n"
     ]
    }
   ],
   "source": [
    "new_array3 = []\n",
    "for item in array:\n",
    "    new_array3.append(my_dictionary_2[item])\n",
    "print(new_array3)"
   ]
  },
  {
   "cell_type": "code",
   "execution_count": 30,
   "metadata": {},
   "outputs": [
    {
     "data": {
      "text/plain": [
       "'c'"
      ]
     },
     "execution_count": 30,
     "metadata": {},
     "output_type": "execute_result"
    }
   ],
   "source": [
    "my_dictionary_2[2]"
   ]
  },
  {
   "cell_type": "code",
   "execution_count": 32,
   "metadata": {},
   "outputs": [
    {
     "data": {
      "text/plain": [
       "dict_keys([0, 1, 2, 3])"
      ]
     },
     "execution_count": 32,
     "metadata": {},
     "output_type": "execute_result"
    }
   ],
   "source": [
    "my_dictionary_2.keys()"
   ]
  },
  {
   "cell_type": "code",
   "execution_count": 33,
   "metadata": {},
   "outputs": [
    {
     "data": {
      "text/plain": [
       "dict_values(['a', 'b', 'c', 'd'])"
      ]
     },
     "execution_count": 33,
     "metadata": {},
     "output_type": "execute_result"
    }
   ],
   "source": [
    "my_dictionary_2.values()"
   ]
  },
  {
   "cell_type": "markdown",
   "metadata": {},
   "source": [
    "## Numpy Python Library\n",
    "\n",
    "Numpy facilitates manipulating arrays (like in Matlab or in R) \n"
   ]
  },
  {
   "cell_type": "code",
   "execution_count": 34,
   "metadata": {},
   "outputs": [],
   "source": [
    "import numpy as np "
   ]
  },
  {
   "cell_type": "code",
   "execution_count": 35,
   "metadata": {},
   "outputs": [],
   "source": [
    "num_arr = [1,1,1,1]\n",
    "num_arr2 = [0,1,0,1]"
   ]
  },
  {
   "cell_type": "code",
   "execution_count": 36,
   "metadata": {},
   "outputs": [
    {
     "data": {
      "text/plain": [
       "[1, 1, 1, 1, 0, 1, 0, 1]"
      ]
     },
     "execution_count": 36,
     "metadata": {},
     "output_type": "execute_result"
    }
   ],
   "source": [
    "num_arr + num_arr2"
   ]
  },
  {
   "cell_type": "code",
   "execution_count": 37,
   "metadata": {},
   "outputs": [],
   "source": [
    "# Create numpy arrays using array() method from the numpy (\"np\") python library\n",
    "np_num_arr = np.array(num_arr)\n",
    "np_num_arr2 = np.array(num_arr2)"
   ]
  },
  {
   "cell_type": "code",
   "execution_count": 38,
   "metadata": {},
   "outputs": [
    {
     "data": {
      "text/plain": [
       "array([1, 2, 1, 2])"
      ]
     },
     "execution_count": 38,
     "metadata": {},
     "output_type": "execute_result"
    }
   ],
   "source": [
    "# Adding pairwise elements in two arrays\n",
    "np_num_arr + np_num_arr2 "
   ]
  },
  {
   "cell_type": "code",
   "execution_count": 39,
   "metadata": {},
   "outputs": [
    {
     "data": {
      "text/plain": [
       "array([0, 1, 0, 1])"
      ]
     },
     "execution_count": 39,
     "metadata": {},
     "output_type": "execute_result"
    }
   ],
   "source": [
    "# Multiply pairwise elements \n",
    "np_num_arr * np_num_arr2"
   ]
  },
  {
   "cell_type": "code",
   "execution_count": 40,
   "metadata": {},
   "outputs": [
    {
     "name": "stderr",
     "output_type": "stream",
     "text": [
      "/opt/conda/lib/python3.7/site-packages/ipykernel_launcher.py:2: RuntimeWarning: divide by zero encountered in true_divide\n",
      "  \n"
     ]
    },
    {
     "data": {
      "text/plain": [
       "array([inf,  1., inf,  1.])"
      ]
     },
     "execution_count": 40,
     "metadata": {},
     "output_type": "execute_result"
    }
   ],
   "source": [
    "# Divide pairwise elements\n",
    "np_num_arr / np_num_arr2"
   ]
  },
  {
   "cell_type": "code",
   "execution_count": 41,
   "metadata": {},
   "outputs": [
    {
     "data": {
      "text/plain": [
       "array([0., 1., 0., 1.])"
      ]
     },
     "execution_count": 41,
     "metadata": {},
     "output_type": "execute_result"
    }
   ],
   "source": [
    "np_num_arr2 / np_num_arr"
   ]
  },
  {
   "cell_type": "code",
   "execution_count": 42,
   "metadata": {},
   "outputs": [
    {
     "data": {
      "text/plain": [
       "list"
      ]
     },
     "execution_count": 42,
     "metadata": {},
     "output_type": "execute_result"
    }
   ],
   "source": [
    "type(num_arr)"
   ]
  },
  {
   "cell_type": "code",
   "execution_count": 43,
   "metadata": {},
   "outputs": [
    {
     "data": {
      "text/plain": [
       "numpy.ndarray"
      ]
     },
     "execution_count": 43,
     "metadata": {},
     "output_type": "execute_result"
    }
   ],
   "source": [
    "type(np_num_arr)"
   ]
  },
  {
   "cell_type": "markdown",
   "metadata": {},
   "source": [
    "## Other np methods\n"
   ]
  },
  {
   "cell_type": "code",
   "execution_count": 44,
   "metadata": {},
   "outputs": [
    {
     "data": {
      "text/plain": [
       "array([1, 2, 1, 2])"
      ]
     },
     "execution_count": 44,
     "metadata": {},
     "output_type": "execute_result"
    }
   ],
   "source": [
    "np.add(np_num_arr, np_num_arr2)"
   ]
  },
  {
   "cell_type": "code",
   "execution_count": 45,
   "metadata": {},
   "outputs": [
    {
     "data": {
      "text/plain": [
       "array([1, 0, 1, 0])"
      ]
     },
     "execution_count": 45,
     "metadata": {},
     "output_type": "execute_result"
    }
   ],
   "source": [
    "np.subtract(np_num_arr, np_num_arr2)"
   ]
  },
  {
   "cell_type": "code",
   "execution_count": 46,
   "metadata": {},
   "outputs": [
    {
     "data": {
      "text/plain": [
       "array([2.71828183, 2.71828183, 2.71828183, 2.71828183])"
      ]
     },
     "execution_count": 46,
     "metadata": {},
     "output_type": "execute_result"
    }
   ],
   "source": [
    "# Take e to the power of each value in the array\n",
    "np.exp(np_num_arr)"
   ]
  },
  {
   "cell_type": "code",
   "execution_count": 49,
   "metadata": {},
   "outputs": [
    {
     "name": "stdout",
     "output_type": "stream",
     "text": [
      "[0.54030231 0.54030231 0.54030231 0.54030231]\n",
      "[0.84147098 0.84147098 0.84147098 0.84147098]\n",
      "[0. 0. 0. 0.]\n"
     ]
    }
   ],
   "source": [
    "# Take cos, sin or log of each value in the array\n",
    "print(np.cos(np_num_arr))\n",
    "print(np.sin(np_num_arr))\n",
    "print(np.log(np_num_arr))"
   ]
  },
  {
   "cell_type": "code",
   "execution_count": 50,
   "metadata": {},
   "outputs": [
    {
     "data": {
      "text/plain": [
       "2"
      ]
     },
     "execution_count": 50,
     "metadata": {},
     "output_type": "execute_result"
    }
   ],
   "source": [
    "# Perform dot product of two vectors\n",
    "np_num_arr.dot(np_num_arr2)"
   ]
  },
  {
   "cell_type": "code",
   "execution_count": 51,
   "metadata": {},
   "outputs": [
    {
     "data": {
      "text/plain": [
       "array([False,  True, False,  True])"
      ]
     },
     "execution_count": 51,
     "metadata": {},
     "output_type": "execute_result"
    }
   ],
   "source": [
    "# Perform logical operations\n",
    "np_num_arr == np_num_arr2 "
   ]
  },
  {
   "cell_type": "code",
   "execution_count": 52,
   "metadata": {},
   "outputs": [
    {
     "data": {
      "text/plain": [
       "array([False, False, False, False])"
      ]
     },
     "execution_count": 52,
     "metadata": {},
     "output_type": "execute_result"
    }
   ],
   "source": [
    "# Compare \n",
    "np_num_arr < np_num_arr2"
   ]
  },
  {
   "cell_type": "code",
   "execution_count": 53,
   "metadata": {},
   "outputs": [
    {
     "data": {
      "text/plain": [
       "array([1, 1, 1, 1])"
      ]
     },
     "execution_count": 53,
     "metadata": {},
     "output_type": "execute_result"
    }
   ],
   "source": [
    "np_num_arr"
   ]
  },
  {
   "cell_type": "code",
   "execution_count": 54,
   "metadata": {},
   "outputs": [
    {
     "data": {
      "text/plain": [
       "array([0, 1, 0, 1])"
      ]
     },
     "execution_count": 54,
     "metadata": {},
     "output_type": "execute_result"
    }
   ],
   "source": [
    "np_num_arr2"
   ]
  },
  {
   "cell_type": "code",
   "execution_count": 55,
   "metadata": {},
   "outputs": [
    {
     "data": {
      "text/plain": [
       "4"
      ]
     },
     "execution_count": 55,
     "metadata": {},
     "output_type": "execute_result"
    }
   ],
   "source": [
    "# Aggreagate functions\n",
    "# Return array-wise sum\n",
    "np_num_arr.sum()"
   ]
  },
  {
   "cell_type": "code",
   "execution_count": 56,
   "metadata": {},
   "outputs": [
    {
     "data": {
      "text/plain": [
       "1"
      ]
     },
     "execution_count": 56,
     "metadata": {},
     "output_type": "execute_result"
    }
   ],
   "source": [
    "# Return array-wise minimum\n",
    "np_num_arr.min()"
   ]
  },
  {
   "cell_type": "code",
   "execution_count": 57,
   "metadata": {},
   "outputs": [
    {
     "data": {
      "text/plain": [
       "1"
      ]
     },
     "execution_count": 57,
     "metadata": {},
     "output_type": "execute_result"
    }
   ],
   "source": [
    "# Return array-wise maximum\n",
    "np_num_arr.max()"
   ]
  },
  {
   "cell_type": "markdown",
   "metadata": {},
   "source": [
    "## 2D Arrays using Numpy"
   ]
  },
  {
   "cell_type": "code",
   "execution_count": 59,
   "metadata": {},
   "outputs": [],
   "source": [
    "TwoD_num_arr = np.array( [ np_num_arr , np_num_arr2 ] )  "
   ]
  },
  {
   "cell_type": "code",
   "execution_count": 60,
   "metadata": {},
   "outputs": [
    {
     "data": {
      "text/plain": [
       "array([[1, 1, 1, 1],\n",
       "       [0, 1, 0, 1]])"
      ]
     },
     "execution_count": 60,
     "metadata": {},
     "output_type": "execute_result"
    }
   ],
   "source": [
    "TwoD_num_arr"
   ]
  },
  {
   "cell_type": "code",
   "execution_count": 63,
   "metadata": {},
   "outputs": [
    {
     "data": {
      "text/plain": [
       "array([[[1, 1, 1, 1],\n",
       "        [0, 1, 0, 1]],\n",
       "\n",
       "       [[1, 1, 1, 1],\n",
       "        [0, 1, 0, 1]]])"
      ]
     },
     "execution_count": 63,
     "metadata": {},
     "output_type": "execute_result"
    }
   ],
   "source": [
    "np.array([ [ np_num_arr, np_num_arr2] , [np_num_arr**2 , np_num_arr2**2] ])"
   ]
  },
  {
   "cell_type": "code",
   "execution_count": 65,
   "metadata": {},
   "outputs": [
    {
     "data": {
      "text/plain": [
       "array([[0., 0., 0., 0.],\n",
       "       [0., 0., 0., 0.],\n",
       "       [0., 0., 0., 0.]])"
      ]
     },
     "execution_count": 65,
     "metadata": {},
     "output_type": "execute_result"
    }
   ],
   "source": [
    "# Initialize numpy 2D array\n",
    "np.zeros((3,4))"
   ]
  },
  {
   "cell_type": "code",
   "execution_count": 66,
   "metadata": {},
   "outputs": [
    {
     "data": {
      "text/plain": [
       "array([[1., 1., 1., 1.],\n",
       "       [1., 1., 1., 1.],\n",
       "       [1., 1., 1., 1.]])"
      ]
     },
     "execution_count": 66,
     "metadata": {},
     "output_type": "execute_result"
    }
   ],
   "source": [
    "np.ones((3,4))"
   ]
  },
  {
   "cell_type": "code",
   "execution_count": 67,
   "metadata": {},
   "outputs": [
    {
     "data": {
      "text/plain": [
       "array([1., 1., 1.])"
      ]
     },
     "execution_count": 67,
     "metadata": {},
     "output_type": "execute_result"
    }
   ],
   "source": [
    "np.ones(3)"
   ]
  },
  {
   "cell_type": "markdown",
   "metadata": {},
   "source": [
    "## Pandas Python Library"
   ]
  },
  {
   "cell_type": "code",
   "execution_count": 68,
   "metadata": {},
   "outputs": [],
   "source": [
    "import pandas as pd"
   ]
  },
  {
   "cell_type": "code",
   "execution_count": 69,
   "metadata": {},
   "outputs": [],
   "source": [
    "# Read a CSV file! \n",
    "### You can also provide full path to file name instead of uploading\n",
    "file_name = \"./gapminder_all.csv\"\n",
    "my_pandas_csv = pd.read_csv(file_name)"
   ]
  },
  {
   "cell_type": "code",
   "execution_count": 73,
   "metadata": {},
   "outputs": [
    {
     "data": {
      "text/html": [
       "<div>\n",
       "<style scoped>\n",
       "    .dataframe tbody tr th:only-of-type {\n",
       "        vertical-align: middle;\n",
       "    }\n",
       "\n",
       "    .dataframe tbody tr th {\n",
       "        vertical-align: top;\n",
       "    }\n",
       "\n",
       "    .dataframe thead th {\n",
       "        text-align: right;\n",
       "    }\n",
       "</style>\n",
       "<table border=\"1\" class=\"dataframe\">\n",
       "  <thead>\n",
       "    <tr style=\"text-align: right;\">\n",
       "      <th></th>\n",
       "      <th>continent</th>\n",
       "      <th>country</th>\n",
       "      <th>gdpPercap_1952</th>\n",
       "      <th>gdpPercap_1957</th>\n",
       "      <th>gdpPercap_1962</th>\n",
       "      <th>gdpPercap_1967</th>\n",
       "      <th>gdpPercap_1972</th>\n",
       "      <th>gdpPercap_1977</th>\n",
       "      <th>gdpPercap_1982</th>\n",
       "      <th>gdpPercap_1987</th>\n",
       "      <th>...</th>\n",
       "      <th>pop_1962</th>\n",
       "      <th>pop_1967</th>\n",
       "      <th>pop_1972</th>\n",
       "      <th>pop_1977</th>\n",
       "      <th>pop_1982</th>\n",
       "      <th>pop_1987</th>\n",
       "      <th>pop_1992</th>\n",
       "      <th>pop_1997</th>\n",
       "      <th>pop_2002</th>\n",
       "      <th>pop_2007</th>\n",
       "    </tr>\n",
       "  </thead>\n",
       "  <tbody>\n",
       "    <tr>\n",
       "      <td>0</td>\n",
       "      <td>Africa</td>\n",
       "      <td>Algeria</td>\n",
       "      <td>2449.008185</td>\n",
       "      <td>3013.976023</td>\n",
       "      <td>2550.816880</td>\n",
       "      <td>3246.991771</td>\n",
       "      <td>4182.663766</td>\n",
       "      <td>4910.416756</td>\n",
       "      <td>5745.160213</td>\n",
       "      <td>5681.358539</td>\n",
       "      <td>...</td>\n",
       "      <td>11000948.0</td>\n",
       "      <td>12760499.0</td>\n",
       "      <td>14760787.0</td>\n",
       "      <td>17152804.0</td>\n",
       "      <td>20033753.0</td>\n",
       "      <td>23254956.0</td>\n",
       "      <td>26298373.0</td>\n",
       "      <td>29072015.0</td>\n",
       "      <td>31287142</td>\n",
       "      <td>33333216</td>\n",
       "    </tr>\n",
       "    <tr>\n",
       "      <td>1</td>\n",
       "      <td>Africa</td>\n",
       "      <td>Angola</td>\n",
       "      <td>3520.610273</td>\n",
       "      <td>3827.940465</td>\n",
       "      <td>4269.276742</td>\n",
       "      <td>5522.776375</td>\n",
       "      <td>5473.288005</td>\n",
       "      <td>3008.647355</td>\n",
       "      <td>2756.953672</td>\n",
       "      <td>2430.208311</td>\n",
       "      <td>...</td>\n",
       "      <td>4826015.0</td>\n",
       "      <td>5247469.0</td>\n",
       "      <td>5894858.0</td>\n",
       "      <td>6162675.0</td>\n",
       "      <td>7016384.0</td>\n",
       "      <td>7874230.0</td>\n",
       "      <td>8735988.0</td>\n",
       "      <td>9875024.0</td>\n",
       "      <td>10866106</td>\n",
       "      <td>12420476</td>\n",
       "    </tr>\n",
       "    <tr>\n",
       "      <td>2</td>\n",
       "      <td>Africa</td>\n",
       "      <td>Benin</td>\n",
       "      <td>1062.752200</td>\n",
       "      <td>959.601080</td>\n",
       "      <td>949.499064</td>\n",
       "      <td>1035.831411</td>\n",
       "      <td>1085.796879</td>\n",
       "      <td>1029.161251</td>\n",
       "      <td>1277.897616</td>\n",
       "      <td>1225.856010</td>\n",
       "      <td>...</td>\n",
       "      <td>2151895.0</td>\n",
       "      <td>2427334.0</td>\n",
       "      <td>2761407.0</td>\n",
       "      <td>3168267.0</td>\n",
       "      <td>3641603.0</td>\n",
       "      <td>4243788.0</td>\n",
       "      <td>4981671.0</td>\n",
       "      <td>6066080.0</td>\n",
       "      <td>7026113</td>\n",
       "      <td>8078314</td>\n",
       "    </tr>\n",
       "    <tr>\n",
       "      <td>3</td>\n",
       "      <td>Africa</td>\n",
       "      <td>Botswana</td>\n",
       "      <td>851.241141</td>\n",
       "      <td>918.232535</td>\n",
       "      <td>983.653976</td>\n",
       "      <td>1214.709294</td>\n",
       "      <td>2263.611114</td>\n",
       "      <td>3214.857818</td>\n",
       "      <td>4551.142150</td>\n",
       "      <td>6205.883850</td>\n",
       "      <td>...</td>\n",
       "      <td>512764.0</td>\n",
       "      <td>553541.0</td>\n",
       "      <td>619351.0</td>\n",
       "      <td>781472.0</td>\n",
       "      <td>970347.0</td>\n",
       "      <td>1151184.0</td>\n",
       "      <td>1342614.0</td>\n",
       "      <td>1536536.0</td>\n",
       "      <td>1630347</td>\n",
       "      <td>1639131</td>\n",
       "    </tr>\n",
       "    <tr>\n",
       "      <td>4</td>\n",
       "      <td>Africa</td>\n",
       "      <td>Burkina Faso</td>\n",
       "      <td>543.255241</td>\n",
       "      <td>617.183465</td>\n",
       "      <td>722.512021</td>\n",
       "      <td>794.826560</td>\n",
       "      <td>854.735976</td>\n",
       "      <td>743.387037</td>\n",
       "      <td>807.198586</td>\n",
       "      <td>912.063142</td>\n",
       "      <td>...</td>\n",
       "      <td>4919632.0</td>\n",
       "      <td>5127935.0</td>\n",
       "      <td>5433886.0</td>\n",
       "      <td>5889574.0</td>\n",
       "      <td>6634596.0</td>\n",
       "      <td>7586551.0</td>\n",
       "      <td>8878303.0</td>\n",
       "      <td>10352843.0</td>\n",
       "      <td>12251209</td>\n",
       "      <td>14326203</td>\n",
       "    </tr>\n",
       "    <tr>\n",
       "      <td>5</td>\n",
       "      <td>Africa</td>\n",
       "      <td>Burundi</td>\n",
       "      <td>339.296459</td>\n",
       "      <td>379.564628</td>\n",
       "      <td>355.203227</td>\n",
       "      <td>412.977514</td>\n",
       "      <td>464.099504</td>\n",
       "      <td>556.103265</td>\n",
       "      <td>559.603231</td>\n",
       "      <td>621.818819</td>\n",
       "      <td>...</td>\n",
       "      <td>2961915.0</td>\n",
       "      <td>3330989.0</td>\n",
       "      <td>3529983.0</td>\n",
       "      <td>3834415.0</td>\n",
       "      <td>4580410.0</td>\n",
       "      <td>5126023.0</td>\n",
       "      <td>5809236.0</td>\n",
       "      <td>6121610.0</td>\n",
       "      <td>7021078</td>\n",
       "      <td>8390505</td>\n",
       "    </tr>\n",
       "    <tr>\n",
       "      <td>6</td>\n",
       "      <td>Africa</td>\n",
       "      <td>Cameroon</td>\n",
       "      <td>1172.667655</td>\n",
       "      <td>1313.048099</td>\n",
       "      <td>1399.607441</td>\n",
       "      <td>1508.453148</td>\n",
       "      <td>1684.146528</td>\n",
       "      <td>1783.432873</td>\n",
       "      <td>2367.983282</td>\n",
       "      <td>2602.664206</td>\n",
       "      <td>...</td>\n",
       "      <td>5793633.0</td>\n",
       "      <td>6335506.0</td>\n",
       "      <td>7021028.0</td>\n",
       "      <td>7959865.0</td>\n",
       "      <td>9250831.0</td>\n",
       "      <td>10780667.0</td>\n",
       "      <td>12467171.0</td>\n",
       "      <td>14195809.0</td>\n",
       "      <td>15929988</td>\n",
       "      <td>17696293</td>\n",
       "    </tr>\n",
       "    <tr>\n",
       "      <td>7</td>\n",
       "      <td>Africa</td>\n",
       "      <td>Central African Republic</td>\n",
       "      <td>1071.310713</td>\n",
       "      <td>1190.844328</td>\n",
       "      <td>1193.068753</td>\n",
       "      <td>1136.056615</td>\n",
       "      <td>1070.013275</td>\n",
       "      <td>1109.374338</td>\n",
       "      <td>956.752991</td>\n",
       "      <td>844.876350</td>\n",
       "      <td>...</td>\n",
       "      <td>1523478.0</td>\n",
       "      <td>1733638.0</td>\n",
       "      <td>1927260.0</td>\n",
       "      <td>2167533.0</td>\n",
       "      <td>2476971.0</td>\n",
       "      <td>2840009.0</td>\n",
       "      <td>3265124.0</td>\n",
       "      <td>3696513.0</td>\n",
       "      <td>4048013</td>\n",
       "      <td>4369038</td>\n",
       "    </tr>\n",
       "    <tr>\n",
       "      <td>8</td>\n",
       "      <td>Africa</td>\n",
       "      <td>Chad</td>\n",
       "      <td>1178.665927</td>\n",
       "      <td>1308.495577</td>\n",
       "      <td>1389.817618</td>\n",
       "      <td>1196.810565</td>\n",
       "      <td>1104.103987</td>\n",
       "      <td>1133.984950</td>\n",
       "      <td>797.908101</td>\n",
       "      <td>952.386129</td>\n",
       "      <td>...</td>\n",
       "      <td>3150417.0</td>\n",
       "      <td>3495967.0</td>\n",
       "      <td>3899068.0</td>\n",
       "      <td>4388260.0</td>\n",
       "      <td>4875118.0</td>\n",
       "      <td>5498955.0</td>\n",
       "      <td>6429417.0</td>\n",
       "      <td>7562011.0</td>\n",
       "      <td>8835739</td>\n",
       "      <td>10238807</td>\n",
       "    </tr>\n",
       "    <tr>\n",
       "      <td>9</td>\n",
       "      <td>Africa</td>\n",
       "      <td>Comoros</td>\n",
       "      <td>1102.990936</td>\n",
       "      <td>1211.148548</td>\n",
       "      <td>1406.648278</td>\n",
       "      <td>1876.029643</td>\n",
       "      <td>1937.577675</td>\n",
       "      <td>1172.603047</td>\n",
       "      <td>1267.100083</td>\n",
       "      <td>1315.980812</td>\n",
       "      <td>...</td>\n",
       "      <td>191689.0</td>\n",
       "      <td>217378.0</td>\n",
       "      <td>250027.0</td>\n",
       "      <td>304739.0</td>\n",
       "      <td>348643.0</td>\n",
       "      <td>395114.0</td>\n",
       "      <td>454429.0</td>\n",
       "      <td>527982.0</td>\n",
       "      <td>614382</td>\n",
       "      <td>710960</td>\n",
       "    </tr>\n",
       "  </tbody>\n",
       "</table>\n",
       "<p>10 rows × 38 columns</p>\n",
       "</div>"
      ],
      "text/plain": [
       "  continent                   country  gdpPercap_1952  gdpPercap_1957  \\\n",
       "0    Africa                   Algeria     2449.008185     3013.976023   \n",
       "1    Africa                    Angola     3520.610273     3827.940465   \n",
       "2    Africa                     Benin     1062.752200      959.601080   \n",
       "3    Africa                  Botswana      851.241141      918.232535   \n",
       "4    Africa              Burkina Faso      543.255241      617.183465   \n",
       "5    Africa                   Burundi      339.296459      379.564628   \n",
       "6    Africa                  Cameroon     1172.667655     1313.048099   \n",
       "7    Africa  Central African Republic     1071.310713     1190.844328   \n",
       "8    Africa                      Chad     1178.665927     1308.495577   \n",
       "9    Africa                   Comoros     1102.990936     1211.148548   \n",
       "\n",
       "   gdpPercap_1962  gdpPercap_1967  gdpPercap_1972  gdpPercap_1977  \\\n",
       "0     2550.816880     3246.991771     4182.663766     4910.416756   \n",
       "1     4269.276742     5522.776375     5473.288005     3008.647355   \n",
       "2      949.499064     1035.831411     1085.796879     1029.161251   \n",
       "3      983.653976     1214.709294     2263.611114     3214.857818   \n",
       "4      722.512021      794.826560      854.735976      743.387037   \n",
       "5      355.203227      412.977514      464.099504      556.103265   \n",
       "6     1399.607441     1508.453148     1684.146528     1783.432873   \n",
       "7     1193.068753     1136.056615     1070.013275     1109.374338   \n",
       "8     1389.817618     1196.810565     1104.103987     1133.984950   \n",
       "9     1406.648278     1876.029643     1937.577675     1172.603047   \n",
       "\n",
       "   gdpPercap_1982  gdpPercap_1987  ...    pop_1962    pop_1967    pop_1972  \\\n",
       "0     5745.160213     5681.358539  ...  11000948.0  12760499.0  14760787.0   \n",
       "1     2756.953672     2430.208311  ...   4826015.0   5247469.0   5894858.0   \n",
       "2     1277.897616     1225.856010  ...   2151895.0   2427334.0   2761407.0   \n",
       "3     4551.142150     6205.883850  ...    512764.0    553541.0    619351.0   \n",
       "4      807.198586      912.063142  ...   4919632.0   5127935.0   5433886.0   \n",
       "5      559.603231      621.818819  ...   2961915.0   3330989.0   3529983.0   \n",
       "6     2367.983282     2602.664206  ...   5793633.0   6335506.0   7021028.0   \n",
       "7      956.752991      844.876350  ...   1523478.0   1733638.0   1927260.0   \n",
       "8      797.908101      952.386129  ...   3150417.0   3495967.0   3899068.0   \n",
       "9     1267.100083     1315.980812  ...    191689.0    217378.0    250027.0   \n",
       "\n",
       "     pop_1977    pop_1982    pop_1987    pop_1992    pop_1997  pop_2002  \\\n",
       "0  17152804.0  20033753.0  23254956.0  26298373.0  29072015.0  31287142   \n",
       "1   6162675.0   7016384.0   7874230.0   8735988.0   9875024.0  10866106   \n",
       "2   3168267.0   3641603.0   4243788.0   4981671.0   6066080.0   7026113   \n",
       "3    781472.0    970347.0   1151184.0   1342614.0   1536536.0   1630347   \n",
       "4   5889574.0   6634596.0   7586551.0   8878303.0  10352843.0  12251209   \n",
       "5   3834415.0   4580410.0   5126023.0   5809236.0   6121610.0   7021078   \n",
       "6   7959865.0   9250831.0  10780667.0  12467171.0  14195809.0  15929988   \n",
       "7   2167533.0   2476971.0   2840009.0   3265124.0   3696513.0   4048013   \n",
       "8   4388260.0   4875118.0   5498955.0   6429417.0   7562011.0   8835739   \n",
       "9    304739.0    348643.0    395114.0    454429.0    527982.0    614382   \n",
       "\n",
       "   pop_2007  \n",
       "0  33333216  \n",
       "1  12420476  \n",
       "2   8078314  \n",
       "3   1639131  \n",
       "4  14326203  \n",
       "5   8390505  \n",
       "6  17696293  \n",
       "7   4369038  \n",
       "8  10238807  \n",
       "9    710960  \n",
       "\n",
       "[10 rows x 38 columns]"
      ]
     },
     "execution_count": 73,
     "metadata": {},
     "output_type": "execute_result"
    }
   ],
   "source": [
    "# First  entries (5 is default, can enter more)\n",
    "my_pandas_csv.head(10)"
   ]
  },
  {
   "cell_type": "code",
   "execution_count": 76,
   "metadata": {},
   "outputs": [
    {
     "data": {
      "text/plain": [
       "Index(['continent', 'country', 'gdpPercap_1952', 'gdpPercap_1957',\n",
       "       'gdpPercap_1962', 'gdpPercap_1967', 'gdpPercap_1972', 'gdpPercap_1977',\n",
       "       'gdpPercap_1982', 'gdpPercap_1987', 'gdpPercap_1992', 'gdpPercap_1997',\n",
       "       'gdpPercap_2002', 'gdpPercap_2007', 'lifeExp_1952', 'lifeExp_1957',\n",
       "       'lifeExp_1962', 'lifeExp_1967', 'lifeExp_1972', 'lifeExp_1977',\n",
       "       'lifeExp_1982', 'lifeExp_1987', 'lifeExp_1992', 'lifeExp_1997',\n",
       "       'lifeExp_2002', 'lifeExp_2007', 'pop_1952', 'pop_1957', 'pop_1962',\n",
       "       'pop_1967', 'pop_1972', 'pop_1977', 'pop_1982', 'pop_1987', 'pop_1992',\n",
       "       'pop_1997', 'pop_2002', 'pop_2007'],\n",
       "      dtype='object')"
      ]
     },
     "execution_count": 76,
     "metadata": {},
     "output_type": "execute_result"
    }
   ],
   "source": [
    "my_pandas_csv.columns"
   ]
  },
  {
   "cell_type": "code",
   "execution_count": 79,
   "metadata": {},
   "outputs": [
    {
     "data": {
      "text/html": [
       "<div>\n",
       "<style scoped>\n",
       "    .dataframe tbody tr th:only-of-type {\n",
       "        vertical-align: middle;\n",
       "    }\n",
       "\n",
       "    .dataframe tbody tr th {\n",
       "        vertical-align: top;\n",
       "    }\n",
       "\n",
       "    .dataframe thead th {\n",
       "        text-align: right;\n",
       "    }\n",
       "</style>\n",
       "<table border=\"1\" class=\"dataframe\">\n",
       "  <thead>\n",
       "    <tr style=\"text-align: right;\">\n",
       "      <th></th>\n",
       "      <th>gdpPercap_1952</th>\n",
       "      <th>gdpPercap_1957</th>\n",
       "      <th>gdpPercap_1962</th>\n",
       "      <th>gdpPercap_1967</th>\n",
       "      <th>gdpPercap_1972</th>\n",
       "      <th>gdpPercap_1977</th>\n",
       "      <th>gdpPercap_1982</th>\n",
       "      <th>gdpPercap_1987</th>\n",
       "      <th>gdpPercap_1992</th>\n",
       "      <th>gdpPercap_1997</th>\n",
       "      <th>...</th>\n",
       "      <th>pop_1962</th>\n",
       "      <th>pop_1967</th>\n",
       "      <th>pop_1972</th>\n",
       "      <th>pop_1977</th>\n",
       "      <th>pop_1982</th>\n",
       "      <th>pop_1987</th>\n",
       "      <th>pop_1992</th>\n",
       "      <th>pop_1997</th>\n",
       "      <th>pop_2002</th>\n",
       "      <th>pop_2007</th>\n",
       "    </tr>\n",
       "  </thead>\n",
       "  <tbody>\n",
       "    <tr>\n",
       "      <td>count</td>\n",
       "      <td>142.000000</td>\n",
       "      <td>142.000000</td>\n",
       "      <td>142.000000</td>\n",
       "      <td>142.000000</td>\n",
       "      <td>142.000000</td>\n",
       "      <td>142.000000</td>\n",
       "      <td>142.000000</td>\n",
       "      <td>142.000000</td>\n",
       "      <td>142.000000</td>\n",
       "      <td>142.000000</td>\n",
       "      <td>...</td>\n",
       "      <td>1.420000e+02</td>\n",
       "      <td>1.420000e+02</td>\n",
       "      <td>1.420000e+02</td>\n",
       "      <td>1.420000e+02</td>\n",
       "      <td>1.420000e+02</td>\n",
       "      <td>1.420000e+02</td>\n",
       "      <td>1.420000e+02</td>\n",
       "      <td>1.420000e+02</td>\n",
       "      <td>1.420000e+02</td>\n",
       "      <td>1.420000e+02</td>\n",
       "    </tr>\n",
       "    <tr>\n",
       "      <td>mean</td>\n",
       "      <td>3725.276046</td>\n",
       "      <td>4299.408345</td>\n",
       "      <td>4725.812342</td>\n",
       "      <td>5483.653047</td>\n",
       "      <td>6770.082815</td>\n",
       "      <td>7313.166421</td>\n",
       "      <td>7518.901673</td>\n",
       "      <td>7900.920218</td>\n",
       "      <td>8158.608521</td>\n",
       "      <td>9090.175363</td>\n",
       "      <td>...</td>\n",
       "      <td>2.042101e+07</td>\n",
       "      <td>2.265830e+07</td>\n",
       "      <td>2.518998e+07</td>\n",
       "      <td>2.767638e+07</td>\n",
       "      <td>3.020730e+07</td>\n",
       "      <td>3.303857e+07</td>\n",
       "      <td>3.599092e+07</td>\n",
       "      <td>3.883947e+07</td>\n",
       "      <td>4.145759e+07</td>\n",
       "      <td>4.402122e+07</td>\n",
       "    </tr>\n",
       "    <tr>\n",
       "      <td>std</td>\n",
       "      <td>9321.064786</td>\n",
       "      <td>9869.662202</td>\n",
       "      <td>8667.362525</td>\n",
       "      <td>8095.315431</td>\n",
       "      <td>10614.383403</td>\n",
       "      <td>8362.489150</td>\n",
       "      <td>7733.845006</td>\n",
       "      <td>8288.281304</td>\n",
       "      <td>9031.846080</td>\n",
       "      <td>10171.493263</td>\n",
       "      <td>...</td>\n",
       "      <td>6.978865e+07</td>\n",
       "      <td>7.837548e+07</td>\n",
       "      <td>8.864682e+07</td>\n",
       "      <td>9.748109e+07</td>\n",
       "      <td>1.050986e+08</td>\n",
       "      <td>1.147562e+08</td>\n",
       "      <td>1.245026e+08</td>\n",
       "      <td>1.334174e+08</td>\n",
       "      <td>1.408483e+08</td>\n",
       "      <td>1.476214e+08</td>\n",
       "    </tr>\n",
       "    <tr>\n",
       "      <td>min</td>\n",
       "      <td>298.846212</td>\n",
       "      <td>335.997115</td>\n",
       "      <td>355.203227</td>\n",
       "      <td>349.000000</td>\n",
       "      <td>357.000000</td>\n",
       "      <td>371.000000</td>\n",
       "      <td>424.000000</td>\n",
       "      <td>385.000000</td>\n",
       "      <td>347.000000</td>\n",
       "      <td>312.188423</td>\n",
       "      <td>...</td>\n",
       "      <td>6.534500e+04</td>\n",
       "      <td>7.078700e+04</td>\n",
       "      <td>7.659500e+04</td>\n",
       "      <td>8.679600e+04</td>\n",
       "      <td>9.859300e+04</td>\n",
       "      <td>1.108120e+05</td>\n",
       "      <td>1.259110e+05</td>\n",
       "      <td>1.456080e+05</td>\n",
       "      <td>1.703720e+05</td>\n",
       "      <td>1.995790e+05</td>\n",
       "    </tr>\n",
       "    <tr>\n",
       "      <td>25%</td>\n",
       "      <td>864.752389</td>\n",
       "      <td>930.540819</td>\n",
       "      <td>1059.149171</td>\n",
       "      <td>1151.245103</td>\n",
       "      <td>1257.193853</td>\n",
       "      <td>1357.257252</td>\n",
       "      <td>1363.338985</td>\n",
       "      <td>1327.469823</td>\n",
       "      <td>1270.660958</td>\n",
       "      <td>1366.837958</td>\n",
       "      <td>...</td>\n",
       "      <td>1.784362e+06</td>\n",
       "      <td>2.034768e+06</td>\n",
       "      <td>2.351192e+06</td>\n",
       "      <td>2.759717e+06</td>\n",
       "      <td>3.006286e+06</td>\n",
       "      <td>3.194990e+06</td>\n",
       "      <td>3.605992e+06</td>\n",
       "      <td>3.770150e+06</td>\n",
       "      <td>4.173506e+06</td>\n",
       "      <td>4.508034e+06</td>\n",
       "    </tr>\n",
       "    <tr>\n",
       "      <td>50%</td>\n",
       "      <td>1968.528344</td>\n",
       "      <td>2173.220291</td>\n",
       "      <td>2335.439533</td>\n",
       "      <td>2678.334741</td>\n",
       "      <td>3339.129407</td>\n",
       "      <td>3798.609244</td>\n",
       "      <td>4216.228428</td>\n",
       "      <td>4280.300366</td>\n",
       "      <td>4386.085502</td>\n",
       "      <td>4781.825478</td>\n",
       "      <td>...</td>\n",
       "      <td>4.686040e+06</td>\n",
       "      <td>5.170176e+06</td>\n",
       "      <td>5.877996e+06</td>\n",
       "      <td>6.404036e+06</td>\n",
       "      <td>7.007320e+06</td>\n",
       "      <td>7.774862e+06</td>\n",
       "      <td>8.688686e+06</td>\n",
       "      <td>9.735064e+06</td>\n",
       "      <td>1.037292e+07</td>\n",
       "      <td>1.051753e+07</td>\n",
       "    </tr>\n",
       "    <tr>\n",
       "      <td>75%</td>\n",
       "      <td>3913.492777</td>\n",
       "      <td>4876.356362</td>\n",
       "      <td>5709.381428</td>\n",
       "      <td>7075.932943</td>\n",
       "      <td>9508.839303</td>\n",
       "      <td>11204.102423</td>\n",
       "      <td>12347.953723</td>\n",
       "      <td>11994.052795</td>\n",
       "      <td>10684.351870</td>\n",
       "      <td>12022.867188</td>\n",
       "      <td>...</td>\n",
       "      <td>1.098008e+07</td>\n",
       "      <td>1.261458e+07</td>\n",
       "      <td>1.467920e+07</td>\n",
       "      <td>1.667023e+07</td>\n",
       "      <td>1.840732e+07</td>\n",
       "      <td>2.094754e+07</td>\n",
       "      <td>2.270538e+07</td>\n",
       "      <td>2.431137e+07</td>\n",
       "      <td>2.654556e+07</td>\n",
       "      <td>3.121004e+07</td>\n",
       "    </tr>\n",
       "    <tr>\n",
       "      <td>max</td>\n",
       "      <td>108382.352900</td>\n",
       "      <td>113523.132900</td>\n",
       "      <td>95458.111760</td>\n",
       "      <td>80894.883260</td>\n",
       "      <td>109347.867000</td>\n",
       "      <td>59265.477140</td>\n",
       "      <td>33693.175250</td>\n",
       "      <td>31540.974800</td>\n",
       "      <td>34932.919590</td>\n",
       "      <td>41283.164330</td>\n",
       "      <td>...</td>\n",
       "      <td>6.657700e+08</td>\n",
       "      <td>7.545500e+08</td>\n",
       "      <td>8.620300e+08</td>\n",
       "      <td>9.434550e+08</td>\n",
       "      <td>1.000281e+09</td>\n",
       "      <td>1.084035e+09</td>\n",
       "      <td>1.164970e+09</td>\n",
       "      <td>1.230075e+09</td>\n",
       "      <td>1.280400e+09</td>\n",
       "      <td>1.318683e+09</td>\n",
       "    </tr>\n",
       "  </tbody>\n",
       "</table>\n",
       "<p>8 rows × 36 columns</p>\n",
       "</div>"
      ],
      "text/plain": [
       "       gdpPercap_1952  gdpPercap_1957  gdpPercap_1962  gdpPercap_1967  \\\n",
       "count      142.000000      142.000000      142.000000      142.000000   \n",
       "mean      3725.276046     4299.408345     4725.812342     5483.653047   \n",
       "std       9321.064786     9869.662202     8667.362525     8095.315431   \n",
       "min        298.846212      335.997115      355.203227      349.000000   \n",
       "25%        864.752389      930.540819     1059.149171     1151.245103   \n",
       "50%       1968.528344     2173.220291     2335.439533     2678.334741   \n",
       "75%       3913.492777     4876.356362     5709.381428     7075.932943   \n",
       "max     108382.352900   113523.132900    95458.111760    80894.883260   \n",
       "\n",
       "       gdpPercap_1972  gdpPercap_1977  gdpPercap_1982  gdpPercap_1987  \\\n",
       "count      142.000000      142.000000      142.000000      142.000000   \n",
       "mean      6770.082815     7313.166421     7518.901673     7900.920218   \n",
       "std      10614.383403     8362.489150     7733.845006     8288.281304   \n",
       "min        357.000000      371.000000      424.000000      385.000000   \n",
       "25%       1257.193853     1357.257252     1363.338985     1327.469823   \n",
       "50%       3339.129407     3798.609244     4216.228428     4280.300366   \n",
       "75%       9508.839303    11204.102423    12347.953723    11994.052795   \n",
       "max     109347.867000    59265.477140    33693.175250    31540.974800   \n",
       "\n",
       "       gdpPercap_1992  gdpPercap_1997  ...      pop_1962      pop_1967  \\\n",
       "count      142.000000      142.000000  ...  1.420000e+02  1.420000e+02   \n",
       "mean      8158.608521     9090.175363  ...  2.042101e+07  2.265830e+07   \n",
       "std       9031.846080    10171.493263  ...  6.978865e+07  7.837548e+07   \n",
       "min        347.000000      312.188423  ...  6.534500e+04  7.078700e+04   \n",
       "25%       1270.660958     1366.837958  ...  1.784362e+06  2.034768e+06   \n",
       "50%       4386.085502     4781.825478  ...  4.686040e+06  5.170176e+06   \n",
       "75%      10684.351870    12022.867188  ...  1.098008e+07  1.261458e+07   \n",
       "max      34932.919590    41283.164330  ...  6.657700e+08  7.545500e+08   \n",
       "\n",
       "           pop_1972      pop_1977      pop_1982      pop_1987      pop_1992  \\\n",
       "count  1.420000e+02  1.420000e+02  1.420000e+02  1.420000e+02  1.420000e+02   \n",
       "mean   2.518998e+07  2.767638e+07  3.020730e+07  3.303857e+07  3.599092e+07   \n",
       "std    8.864682e+07  9.748109e+07  1.050986e+08  1.147562e+08  1.245026e+08   \n",
       "min    7.659500e+04  8.679600e+04  9.859300e+04  1.108120e+05  1.259110e+05   \n",
       "25%    2.351192e+06  2.759717e+06  3.006286e+06  3.194990e+06  3.605992e+06   \n",
       "50%    5.877996e+06  6.404036e+06  7.007320e+06  7.774862e+06  8.688686e+06   \n",
       "75%    1.467920e+07  1.667023e+07  1.840732e+07  2.094754e+07  2.270538e+07   \n",
       "max    8.620300e+08  9.434550e+08  1.000281e+09  1.084035e+09  1.164970e+09   \n",
       "\n",
       "           pop_1997      pop_2002      pop_2007  \n",
       "count  1.420000e+02  1.420000e+02  1.420000e+02  \n",
       "mean   3.883947e+07  4.145759e+07  4.402122e+07  \n",
       "std    1.334174e+08  1.408483e+08  1.476214e+08  \n",
       "min    1.456080e+05  1.703720e+05  1.995790e+05  \n",
       "25%    3.770150e+06  4.173506e+06  4.508034e+06  \n",
       "50%    9.735064e+06  1.037292e+07  1.051753e+07  \n",
       "75%    2.431137e+07  2.654556e+07  3.121004e+07  \n",
       "max    1.230075e+09  1.280400e+09  1.318683e+09  \n",
       "\n",
       "[8 rows x 36 columns]"
      ]
     },
     "execution_count": 79,
     "metadata": {},
     "output_type": "execute_result"
    }
   ],
   "source": [
    "# Describe to get basic stats summary of the data\n",
    "my_pandas_csv.describe()"
   ]
  },
  {
   "cell_type": "code",
   "execution_count": 81,
   "metadata": {},
   "outputs": [
    {
     "data": {
      "text/plain": [
       "array(['Africa', 'Americas', 'Asia', 'Europe', 'Oceania'], dtype=object)"
      ]
     },
     "execution_count": 81,
     "metadata": {},
     "output_type": "execute_result"
    }
   ],
   "source": [
    "# Get unique values from a column with unique() method\n",
    "my_pandas_csv[\"continent\"].unique()"
   ]
  },
  {
   "cell_type": "code",
   "execution_count": 93,
   "metadata": {},
   "outputs": [],
   "source": [
    "condition = my_pandas_csv[\"continent\"]==\"Africa\"\n",
    "africa_gdp = my_pandas_csv[ condition]"
   ]
  },
  {
   "cell_type": "code",
   "execution_count": 94,
   "metadata": {},
   "outputs": [
    {
     "data": {
      "text/html": [
       "<div>\n",
       "<style scoped>\n",
       "    .dataframe tbody tr th:only-of-type {\n",
       "        vertical-align: middle;\n",
       "    }\n",
       "\n",
       "    .dataframe tbody tr th {\n",
       "        vertical-align: top;\n",
       "    }\n",
       "\n",
       "    .dataframe thead th {\n",
       "        text-align: right;\n",
       "    }\n",
       "</style>\n",
       "<table border=\"1\" class=\"dataframe\">\n",
       "  <thead>\n",
       "    <tr style=\"text-align: right;\">\n",
       "      <th></th>\n",
       "      <th>continent</th>\n",
       "      <th>country</th>\n",
       "      <th>gdpPercap_1952</th>\n",
       "      <th>gdpPercap_1957</th>\n",
       "      <th>gdpPercap_1962</th>\n",
       "      <th>gdpPercap_1967</th>\n",
       "      <th>gdpPercap_1972</th>\n",
       "      <th>gdpPercap_1977</th>\n",
       "      <th>gdpPercap_1982</th>\n",
       "      <th>gdpPercap_1987</th>\n",
       "      <th>...</th>\n",
       "      <th>pop_1962</th>\n",
       "      <th>pop_1967</th>\n",
       "      <th>pop_1972</th>\n",
       "      <th>pop_1977</th>\n",
       "      <th>pop_1982</th>\n",
       "      <th>pop_1987</th>\n",
       "      <th>pop_1992</th>\n",
       "      <th>pop_1997</th>\n",
       "      <th>pop_2002</th>\n",
       "      <th>pop_2007</th>\n",
       "    </tr>\n",
       "  </thead>\n",
       "  <tbody>\n",
       "    <tr>\n",
       "      <td>0</td>\n",
       "      <td>Africa</td>\n",
       "      <td>Algeria</td>\n",
       "      <td>2449.008185</td>\n",
       "      <td>3013.976023</td>\n",
       "      <td>2550.81688</td>\n",
       "      <td>3246.991771</td>\n",
       "      <td>4182.663766</td>\n",
       "      <td>4910.416756</td>\n",
       "      <td>5745.160213</td>\n",
       "      <td>5681.358539</td>\n",
       "      <td>...</td>\n",
       "      <td>11000948.0</td>\n",
       "      <td>12760499.0</td>\n",
       "      <td>14760787.0</td>\n",
       "      <td>17152804.0</td>\n",
       "      <td>20033753.0</td>\n",
       "      <td>23254956.0</td>\n",
       "      <td>26298373.0</td>\n",
       "      <td>29072015.0</td>\n",
       "      <td>31287142</td>\n",
       "      <td>33333216</td>\n",
       "    </tr>\n",
       "  </tbody>\n",
       "</table>\n",
       "<p>1 rows × 38 columns</p>\n",
       "</div>"
      ],
      "text/plain": [
       "  continent  country  gdpPercap_1952  gdpPercap_1957  gdpPercap_1962  \\\n",
       "0    Africa  Algeria     2449.008185     3013.976023      2550.81688   \n",
       "\n",
       "   gdpPercap_1967  gdpPercap_1972  gdpPercap_1977  gdpPercap_1982  \\\n",
       "0     3246.991771     4182.663766     4910.416756     5745.160213   \n",
       "\n",
       "   gdpPercap_1987  ...    pop_1962    pop_1967    pop_1972    pop_1977  \\\n",
       "0     5681.358539  ...  11000948.0  12760499.0  14760787.0  17152804.0   \n",
       "\n",
       "     pop_1982    pop_1987    pop_1992    pop_1997  pop_2002  pop_2007  \n",
       "0  20033753.0  23254956.0  26298373.0  29072015.0  31287142  33333216  \n",
       "\n",
       "[1 rows x 38 columns]"
      ]
     },
     "execution_count": 94,
     "metadata": {},
     "output_type": "execute_result"
    }
   ],
   "source": [
    "condition2 = africa_gdp[\"country\"]==\"Algeria\" \n",
    "africa_dgp[condition2]"
   ]
  },
  {
   "cell_type": "code",
   "execution_count": 101,
   "metadata": {},
   "outputs": [],
   "source": [
    "sub_pd = my_pandas_csv[ (my_pandas_csv[\"continent\"] == \"Africa\") & (my_pandas_csv[\"country\"] == \"Algeria\") ]"
   ]
  },
  {
   "cell_type": "code",
   "execution_count": 108,
   "metadata": {},
   "outputs": [
    {
     "data": {
      "text/html": [
       "<div>\n",
       "<style scoped>\n",
       "    .dataframe tbody tr th:only-of-type {\n",
       "        vertical-align: middle;\n",
       "    }\n",
       "\n",
       "    .dataframe tbody tr th {\n",
       "        vertical-align: top;\n",
       "    }\n",
       "\n",
       "    .dataframe thead th {\n",
       "        text-align: right;\n",
       "    }\n",
       "</style>\n",
       "<table border=\"1\" class=\"dataframe\">\n",
       "  <thead>\n",
       "    <tr style=\"text-align: right;\">\n",
       "      <th></th>\n",
       "      <th>continent</th>\n",
       "      <th>country</th>\n",
       "      <th>gdpPercap_1952</th>\n",
       "      <th>gdpPercap_1957</th>\n",
       "      <th>gdpPercap_1962</th>\n",
       "      <th>gdpPercap_1967</th>\n",
       "      <th>gdpPercap_1972</th>\n",
       "      <th>gdpPercap_1977</th>\n",
       "      <th>gdpPercap_1982</th>\n",
       "      <th>gdpPercap_1987</th>\n",
       "      <th>...</th>\n",
       "      <th>pop_1962</th>\n",
       "      <th>pop_1967</th>\n",
       "      <th>pop_1972</th>\n",
       "      <th>pop_1977</th>\n",
       "      <th>pop_1982</th>\n",
       "      <th>pop_1987</th>\n",
       "      <th>pop_1992</th>\n",
       "      <th>pop_1997</th>\n",
       "      <th>pop_2002</th>\n",
       "      <th>pop_2007</th>\n",
       "    </tr>\n",
       "  </thead>\n",
       "  <tbody>\n",
       "    <tr>\n",
       "      <td>0</td>\n",
       "      <td>Africa</td>\n",
       "      <td>Algeria</td>\n",
       "      <td>2449.008185</td>\n",
       "      <td>3013.976023</td>\n",
       "      <td>2550.81688</td>\n",
       "      <td>3246.991771</td>\n",
       "      <td>4182.663766</td>\n",
       "      <td>4910.416756</td>\n",
       "      <td>5745.160213</td>\n",
       "      <td>5681.358539</td>\n",
       "      <td>...</td>\n",
       "      <td>11000948.0</td>\n",
       "      <td>12760499.0</td>\n",
       "      <td>14760787.0</td>\n",
       "      <td>17152804.0</td>\n",
       "      <td>20033753.0</td>\n",
       "      <td>23254956.0</td>\n",
       "      <td>26298373.0</td>\n",
       "      <td>29072015.0</td>\n",
       "      <td>31287142</td>\n",
       "      <td>33333216</td>\n",
       "    </tr>\n",
       "  </tbody>\n",
       "</table>\n",
       "<p>1 rows × 38 columns</p>\n",
       "</div>"
      ],
      "text/plain": [
       "  continent  country  gdpPercap_1952  gdpPercap_1957  gdpPercap_1962  \\\n",
       "0    Africa  Algeria     2449.008185     3013.976023      2550.81688   \n",
       "\n",
       "   gdpPercap_1967  gdpPercap_1972  gdpPercap_1977  gdpPercap_1982  \\\n",
       "0     3246.991771     4182.663766     4910.416756     5745.160213   \n",
       "\n",
       "   gdpPercap_1987  ...    pop_1962    pop_1967    pop_1972    pop_1977  \\\n",
       "0     5681.358539  ...  11000948.0  12760499.0  14760787.0  17152804.0   \n",
       "\n",
       "     pop_1982    pop_1987    pop_1992    pop_1997  pop_2002  pop_2007  \n",
       "0  20033753.0  23254956.0  26298373.0  29072015.0  31287142  33333216  \n",
       "\n",
       "[1 rows x 38 columns]"
      ]
     },
     "execution_count": 108,
     "metadata": {},
     "output_type": "execute_result"
    }
   ],
   "source": [
    "sub_pd.iloc[:,:]"
   ]
  },
  {
   "cell_type": "code",
   "execution_count": 124,
   "metadata": {},
   "outputs": [],
   "source": [
    "variable_x = sub_pd.iloc[:,2:14]"
   ]
  },
  {
   "cell_type": "code",
   "execution_count": 119,
   "metadata": {},
   "outputs": [],
   "source": [
    "variable_y = sub_pd.iloc[:,14:26]"
   ]
  },
  {
   "cell_type": "code",
   "execution_count": 142,
   "metadata": {},
   "outputs": [
    {
     "data": {
      "image/png": "[encoded data removed]",
      "text/plain": [
       "<Figure size 432x288 with 1 Axes>"
      ]
     },
     "metadata": {
      "needs_background": "light"
     },
     "output_type": "display_data"
    }
   ],
   "source": [
    "my_pandas_csv.boxplot(column=[\"gdpPercap_1952\",\"gdpPercap_1962\",\"gdpPercap_1972\"]);"
   ]
  },
  {
   "cell_type": "markdown",
   "metadata": {},
   "source": [
    "# Matplotlib plotting"
   ]
  },
  {
   "cell_type": "code",
   "execution_count": 143,
   "metadata": {},
   "outputs": [],
   "source": [
    "import matplotlib.pyplot as plt\n",
    "#importing library to python using an alias"
   ]
  },
  {
   "cell_type": "code",
   "execution_count": 146,
   "metadata": {},
   "outputs": [
    {
     "data": {
      "text/plain": [
       "Text(0.5, 1.0, 'Distance Plot')"
      ]
     },
     "execution_count": 146,
     "metadata": {},
     "output_type": "execute_result"
    },
    {
     "data": {
      "image/png": "[encoded data removed]",
      "text/plain": [
       "<Figure size 432x288 with 1 Axes>"
      ]
     },
     "metadata": {
      "needs_background": "light"
     },
     "output_type": "display_data"
    }
   ],
   "source": [
    "time = [0, 1, 2, 3]\n",
    "position = [0, 50, 100, 150]\n",
    "\n",
    "plt.plot(time, position)\n",
    "plt.xlabel(\"Time (hours)\")\n",
    "plt.ylabel(\"Distance (Km)\")\n",
    "plt.title(\"Distance Plot\")"
   ]
  },
  {
   "cell_type": "code",
   "execution_count": 150,
   "metadata": {},
   "outputs": [],
   "source": [
    "import pandas as pd\n",
    "oceania_data = pd.read_csv(\"gapminder_gdp_oceania.csv\", index_col =\"country\")"
   ]
  },
  {
   "cell_type": "code",
   "execution_count": 151,
   "metadata": {},
   "outputs": [
    {
     "data": {
      "text/html": [
       "<div>\n",
       "<style scoped>\n",
       "    .dataframe tbody tr th:only-of-type {\n",
       "        vertical-align: middle;\n",
       "    }\n",
       "\n",
       "    .dataframe tbody tr th {\n",
       "        vertical-align: top;\n",
       "    }\n",
       "\n",
       "    .dataframe thead th {\n",
       "        text-align: right;\n",
       "    }\n",
       "</style>\n",
       "<table border=\"1\" class=\"dataframe\">\n",
       "  <thead>\n",
       "    <tr style=\"text-align: right;\">\n",
       "      <th></th>\n",
       "      <th>gdpPercap_1952</th>\n",
       "      <th>gdpPercap_1957</th>\n",
       "      <th>gdpPercap_1962</th>\n",
       "      <th>gdpPercap_1967</th>\n",
       "      <th>gdpPercap_1972</th>\n",
       "      <th>gdpPercap_1977</th>\n",
       "      <th>gdpPercap_1982</th>\n",
       "      <th>gdpPercap_1987</th>\n",
       "      <th>gdpPercap_1992</th>\n",
       "      <th>gdpPercap_1997</th>\n",
       "      <th>gdpPercap_2002</th>\n",
       "      <th>gdpPercap_2007</th>\n",
       "    </tr>\n",
       "    <tr>\n",
       "      <th>country</th>\n",
       "      <th></th>\n",
       "      <th></th>\n",
       "      <th></th>\n",
       "      <th></th>\n",
       "      <th></th>\n",
       "      <th></th>\n",
       "      <th></th>\n",
       "      <th></th>\n",
       "      <th></th>\n",
       "      <th></th>\n",
       "      <th></th>\n",
       "      <th></th>\n",
       "    </tr>\n",
       "  </thead>\n",
       "  <tbody>\n",
       "    <tr>\n",
       "      <td>Australia</td>\n",
       "      <td>10039.59564</td>\n",
       "      <td>10949.64959</td>\n",
       "      <td>12217.22686</td>\n",
       "      <td>14526.12465</td>\n",
       "      <td>16788.62948</td>\n",
       "      <td>18334.19751</td>\n",
       "      <td>19477.00928</td>\n",
       "      <td>21888.88903</td>\n",
       "      <td>23424.76683</td>\n",
       "      <td>26997.93657</td>\n",
       "      <td>30687.75473</td>\n",
       "      <td>34435.36744</td>\n",
       "    </tr>\n",
       "    <tr>\n",
       "      <td>New Zealand</td>\n",
       "      <td>10556.57566</td>\n",
       "      <td>12247.39532</td>\n",
       "      <td>13175.67800</td>\n",
       "      <td>14463.91893</td>\n",
       "      <td>16046.03728</td>\n",
       "      <td>16233.71770</td>\n",
       "      <td>17632.41040</td>\n",
       "      <td>19007.19129</td>\n",
       "      <td>18363.32494</td>\n",
       "      <td>21050.41377</td>\n",
       "      <td>23189.80135</td>\n",
       "      <td>25185.00911</td>\n",
       "    </tr>\n",
       "  </tbody>\n",
       "</table>\n",
       "</div>"
      ],
      "text/plain": [
       "             gdpPercap_1952  gdpPercap_1957  gdpPercap_1962  gdpPercap_1967  \\\n",
       "country                                                                       \n",
       "Australia       10039.59564     10949.64959     12217.22686     14526.12465   \n",
       "New Zealand     10556.57566     12247.39532     13175.67800     14463.91893   \n",
       "\n",
       "             gdpPercap_1972  gdpPercap_1977  gdpPercap_1982  gdpPercap_1987  \\\n",
       "country                                                                       \n",
       "Australia       16788.62948     18334.19751     19477.00928     21888.88903   \n",
       "New Zealand     16046.03728     16233.71770     17632.41040     19007.19129   \n",
       "\n",
       "             gdpPercap_1992  gdpPercap_1997  gdpPercap_2002  gdpPercap_2007  \n",
       "country                                                                      \n",
       "Australia       23424.76683     26997.93657     30687.75473     34435.36744  \n",
       "New Zealand     18363.32494     21050.41377     23189.80135     25185.00911  "
      ]
     },
     "execution_count": 151,
     "metadata": {},
     "output_type": "execute_result"
    }
   ],
   "source": [
    "oceania_data"
   ]
  },
  {
   "cell_type": "code",
   "execution_count": 152,
   "metadata": {
    "scrolled": true
   },
   "outputs": [
    {
     "data": {
      "text/plain": [
       "Index(['gdpPercap_1952', 'gdpPercap_1957', 'gdpPercap_1962', 'gdpPercap_1967',\n",
       "       'gdpPercap_1972', 'gdpPercap_1977', 'gdpPercap_1982', 'gdpPercap_1987',\n",
       "       'gdpPercap_1992', 'gdpPercap_1997', 'gdpPercap_2002', 'gdpPercap_2007'],\n",
       "      dtype='object')"
      ]
     },
     "execution_count": 152,
     "metadata": {},
     "output_type": "execute_result"
    }
   ],
   "source": [
    "### LEt's look at the column names of our dataset:\n",
    "oceania_data.columns"
   ]
  },
  {
   "cell_type": "code",
   "execution_count": 165,
   "metadata": {},
   "outputs": [],
   "source": [
    "###Goal: PLot a time series plot for year vs. GDP for both Autralia and N-Z\n",
    "\n",
    "#First thing we need to do is extract a \"year\" dataset\n",
    "\n",
    "\n",
    "\n",
    "years = []\n",
    "for item in oceania_data.columns:\n",
    "    years.append(int( item[len(item)-4:]) )\n",
    "\n",
    "##FYI: Each loop is doing this: \n",
    "#n = len(oceania_data.columns[0])\n",
    "#oceania_data.columns[0][n-4:]"
   ]
  },
  {
   "cell_type": "code",
   "execution_count": 166,
   "metadata": {},
   "outputs": [
    {
     "data": {
      "text/plain": [
       "[1952, 1957, 1962, 1967, 1972, 1977, 1982, 1987, 1992, 1997, 2002, 2007]"
      ]
     },
     "execution_count": 166,
     "metadata": {},
     "output_type": "execute_result"
    }
   ],
   "source": [
    "years"
   ]
  },
  {
   "cell_type": "code",
   "execution_count": 167,
   "metadata": {},
   "outputs": [
    {
     "data": {
      "text/plain": [
       "gdpPercap_1952    10039.59564\n",
       "gdpPercap_1957    10949.64959\n",
       "gdpPercap_1962    12217.22686\n",
       "gdpPercap_1967    14526.12465\n",
       "gdpPercap_1972    16788.62948\n",
       "gdpPercap_1977    18334.19751\n",
       "gdpPercap_1982    19477.00928\n",
       "gdpPercap_1987    21888.88903\n",
       "gdpPercap_1992    23424.76683\n",
       "gdpPercap_1997    26997.93657\n",
       "gdpPercap_2002    30687.75473\n",
       "gdpPercap_2007    34435.36744\n",
       "Name: Australia, dtype: float64"
      ]
     },
     "execution_count": 167,
     "metadata": {},
     "output_type": "execute_result"
    }
   ],
   "source": [
    "#### Lets plot GDP for Australia\n",
    "oceania_data.loc['Australia', :]\n",
    "\n"
   ]
  },
  {
   "cell_type": "code",
   "execution_count": 176,
   "metadata": {},
   "outputs": [
    {
     "data": {
      "text/plain": [
       "Text(0.5, 1.0, 'GDP per capita for Australia')"
      ]
     },
     "execution_count": 176,
     "metadata": {},
     "output_type": "execute_result"
    },
    {
     "data": {
      "image/png": "[encoded data removed]",
      "text/plain": [
       "<Figure size 432x288 with 1 Axes>"
      ]
     },
     "metadata": {
      "needs_background": "light"
     },
     "output_type": "display_data"
    }
   ],
   "source": [
    "plt.plot(years, oceania_data.loc['Australia', :], color = \"#1ED0A5\", linestyle = \"--\")\n",
    "plt.xlabel(\"Year\")\n",
    "plt.ylabel(\"GDP\")\n",
    "plt.title(\"GDP per capita for Australia\")"
   ]
  },
  {
   "cell_type": "code",
   "execution_count": 180,
   "metadata": {},
   "outputs": [
    {
     "data": {
      "text/html": [
       "<div>\n",
       "<style scoped>\n",
       "    .dataframe tbody tr th:only-of-type {\n",
       "        vertical-align: middle;\n",
       "    }\n",
       "\n",
       "    .dataframe tbody tr th {\n",
       "        vertical-align: top;\n",
       "    }\n",
       "\n",
       "    .dataframe thead th {\n",
       "        text-align: right;\n",
       "    }\n",
       "</style>\n",
       "<table border=\"1\" class=\"dataframe\">\n",
       "  <thead>\n",
       "    <tr style=\"text-align: right;\">\n",
       "      <th>country</th>\n",
       "      <th>Australia</th>\n",
       "      <th>New Zealand</th>\n",
       "    </tr>\n",
       "  </thead>\n",
       "  <tbody>\n",
       "    <tr>\n",
       "      <td>gdpPercap_1952</td>\n",
       "      <td>10039.59564</td>\n",
       "      <td>10556.57566</td>\n",
       "    </tr>\n",
       "    <tr>\n",
       "      <td>gdpPercap_1957</td>\n",
       "      <td>10949.64959</td>\n",
       "      <td>12247.39532</td>\n",
       "    </tr>\n",
       "    <tr>\n",
       "      <td>gdpPercap_1962</td>\n",
       "      <td>12217.22686</td>\n",
       "      <td>13175.67800</td>\n",
       "    </tr>\n",
       "    <tr>\n",
       "      <td>gdpPercap_1967</td>\n",
       "      <td>14526.12465</td>\n",
       "      <td>14463.91893</td>\n",
       "    </tr>\n",
       "    <tr>\n",
       "      <td>gdpPercap_1972</td>\n",
       "      <td>16788.62948</td>\n",
       "      <td>16046.03728</td>\n",
       "    </tr>\n",
       "    <tr>\n",
       "      <td>gdpPercap_1977</td>\n",
       "      <td>18334.19751</td>\n",
       "      <td>16233.71770</td>\n",
       "    </tr>\n",
       "    <tr>\n",
       "      <td>gdpPercap_1982</td>\n",
       "      <td>19477.00928</td>\n",
       "      <td>17632.41040</td>\n",
       "    </tr>\n",
       "    <tr>\n",
       "      <td>gdpPercap_1987</td>\n",
       "      <td>21888.88903</td>\n",
       "      <td>19007.19129</td>\n",
       "    </tr>\n",
       "    <tr>\n",
       "      <td>gdpPercap_1992</td>\n",
       "      <td>23424.76683</td>\n",
       "      <td>18363.32494</td>\n",
       "    </tr>\n",
       "    <tr>\n",
       "      <td>gdpPercap_1997</td>\n",
       "      <td>26997.93657</td>\n",
       "      <td>21050.41377</td>\n",
       "    </tr>\n",
       "    <tr>\n",
       "      <td>gdpPercap_2002</td>\n",
       "      <td>30687.75473</td>\n",
       "      <td>23189.80135</td>\n",
       "    </tr>\n",
       "    <tr>\n",
       "      <td>gdpPercap_2007</td>\n",
       "      <td>34435.36744</td>\n",
       "      <td>25185.00911</td>\n",
       "    </tr>\n",
       "  </tbody>\n",
       "</table>\n",
       "</div>"
      ],
      "text/plain": [
       "country           Australia  New Zealand\n",
       "gdpPercap_1952  10039.59564  10556.57566\n",
       "gdpPercap_1957  10949.64959  12247.39532\n",
       "gdpPercap_1962  12217.22686  13175.67800\n",
       "gdpPercap_1967  14526.12465  14463.91893\n",
       "gdpPercap_1972  16788.62948  16046.03728\n",
       "gdpPercap_1977  18334.19751  16233.71770\n",
       "gdpPercap_1982  19477.00928  17632.41040\n",
       "gdpPercap_1987  21888.88903  19007.19129\n",
       "gdpPercap_1992  23424.76683  18363.32494\n",
       "gdpPercap_1997  26997.93657  21050.41377\n",
       "gdpPercap_2002  30687.75473  23189.80135\n",
       "gdpPercap_2007  34435.36744  25185.00911"
      ]
     },
     "execution_count": 180,
     "metadata": {},
     "output_type": "execute_result"
    }
   ],
   "source": [
    "###That was so much fun! Let's plot Australia's and NZ's gdp vs year on the same graph now\n",
    "\n",
    "# Note that the .T method takes the transpose of the dataframe\n",
    "# (i.e. we switch rows <-> columns)\n",
    "#oceania_data.T\n",
    "\n",
    "oceania_data.T[\"Australia\"]\n"
   ]
  },
  {
   "cell_type": "code",
   "execution_count": 188,
   "metadata": {},
   "outputs": [
    {
     "data": {
      "text/plain": [
       "<matplotlib.legend.Legend at 0x7f6283ac4898>"
      ]
     },
     "execution_count": 188,
     "metadata": {},
     "output_type": "execute_result"
    },
    {
     "data": {
      "image/png": "[encoded data removed]",
      "text/plain": [
       "<Figure size 432x288 with 1 Axes>"
      ]
     },
     "metadata": {
      "needs_background": "light"
     },
     "output_type": "display_data"
    }
   ],
   "source": [
    "plt.plot(years, oceania_data.T[\"Australia\"], color = \"#22D3E3\")\n",
    "plt.plot(years, oceania_data.T[\"New Zealand\"], color = \"red\")\n",
    "plt.xlabel(\"Year\")\n",
    "plt.ylabel(\"GDP per capita\")\n",
    "plt.title(\"GDP per capita for Oceania\")\n",
    "plt.legend([\"Australia\",\"New Zealand\"])"
   ]
  },
  {
   "cell_type": "code",
   "execution_count": 190,
   "metadata": {},
   "outputs": [
    {
     "data": {
      "text/plain": [
       "<matplotlib.axes._subplots.AxesSubplot at 0x7f62838945c0>"
      ]
     },
     "execution_count": 190,
     "metadata": {},
     "output_type": "execute_result"
    },
    {
     "data": {
      "image/png": "[encoded data removed]",
      "text/plain": [
       "<Figure size 432x288 with 1 Axes>"
      ]
     },
     "metadata": {
      "needs_background": "light"
     },
     "output_type": "display_data"
    }
   ],
   "source": [
    "###Let's produce some barplots\n",
    "oceania_data.T.plot(kind=\"bar\")\n"
   ]
  },
  {
   "cell_type": "code",
   "execution_count": 192,
   "metadata": {},
   "outputs": [
    {
     "data": {
      "text/plain": [
       "<matplotlib.collections.PathCollection at 0x7f62839998d0>"
      ]
     },
     "execution_count": 192,
     "metadata": {},
     "output_type": "execute_result"
    },
    {
     "data": {
      "image/png": "[encoded data removed]",
      "text/plain": [
       "<Figure size 432x288 with 1 Axes>"
      ]
     },
     "metadata": {
      "needs_background": "light"
     },
     "output_type": "display_data"
    }
   ],
   "source": [
    "### Let's do scatterplots\n",
    "Australia_gdp = oceania_data.loc[\"Australia\"]\n",
    "NZ_gdp = oceania_data.loc[\"New Zealand\"]\n",
    "plt.scatter(Australia_gdp, NZ_gdp)\n",
    "\n"
   ]
  },
  {
   "cell_type": "code",
   "execution_count": 197,
   "metadata": {},
   "outputs": [
    {
     "data": {
      "text/plain": [
       "<matplotlib.axes._subplots.AxesSubplot at 0x7f62a8d3bc50>"
      ]
     },
     "execution_count": 197,
     "metadata": {},
     "output_type": "execute_result"
    },
    {
     "data": {
      "image/png": "[encoded data removed]",
      "text/plain": [
       "<Figure size 432x288 with 2 Axes>"
      ]
     },
     "metadata": {
      "needs_background": "light"
     },
     "output_type": "display_data"
    }
   ],
   "source": [
    "my_data = [[1,2,3,4,5],\n",
    "          [3,5,7,8,9],\n",
    "           [7,6,5,7,8]\n",
    "          ]\n",
    "my_data2 = pd.DataFrame(my_data, columns = [\"Var1\", \"Var2\", \"Var3\", \"Var4\", \"Var5\"])\n",
    "\n",
    "my_data2.corr()\n",
    "\n",
    "\n",
    "import seaborn as sns\n",
    "\n",
    "#changing the colour layout\n",
    "sns.set_palette(\"pastel\")\n",
    "\n",
    "#Plot a heatmap using my correlation values\n",
    "sns.heatmap(my_data2.corr(),alpha = 0.8, annot=True)\n"
   ]
  },
  {
   "cell_type": "code",
   "execution_count": null,
   "metadata": {},
   "outputs": [],
   "source": []
  },
  {
   "cell_type": "code",
   "execution_count": null,
   "metadata": {},
   "outputs": [],
   "source": []
  },
  {
   "cell_type": "code",
   "execution_count": null,
   "metadata": {},
   "outputs": [],
   "source": []
  },
  {
   "cell_type": "code",
   "execution_count": null,
   "metadata": {},
   "outputs": [],
   "source": []
  },
  {
   "cell_type": "code",
   "execution_count": null,
   "metadata": {},
   "outputs": [],
   "source": []
  },
  {
   "cell_type": "code",
   "execution_count": null,
   "metadata": {},
   "outputs": [],
   "source": []
  }
 ],
 "metadata": {
  "kernelspec": {
   "display_name": "Python 3",
   "language": "python",
   "name": "python3"
  },
  "language_info": {
   "codemirror_mode": {
    "name": "ipython",
    "version": 3
   },
   "file_extension": ".py",
   "mimetype": "text/x-python",
   "name": "python",
   "nbconvert_exporter": "python",
   "pygments_lexer": "ipython3",
   "version": "3.5.2"
  }
 },
 "nbformat": 4,
 "nbformat_minor": 2
}
